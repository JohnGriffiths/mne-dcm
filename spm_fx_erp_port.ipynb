{
 "cells": [
  {
   "cell_type": "code",
   "execution_count": 35,
   "metadata": {
    "collapsed": true
   },
   "outputs": [],
   "source": [
    "# TO DO WITH THIS FUNC: \n",
    "\n",
    "# Try it working up to spm_diff\n",
    "# ...checking vs. spm func using spm debugger breakpoints\n",
    "\n",
    "# then come up with alternative for spm_diff\n",
    "\n",
    "# then can do full simulations\n"
   ]
  },
  {
   "cell_type": "code",
   "execution_count": 187,
   "metadata": {
    "collapsed": true
   },
   "outputs": [],
   "source": [
    "\n",
    "import scipy.sparse as sps\n"
   ]
  },
  {
   "cell_type": "markdown",
   "metadata": {},
   "source": [
    "## SPM fx erp port"
   ]
  },
  {
   "cell_type": "markdown",
   "metadata": {},
   "source": [
    "***code***"
   ]
  },
  {
   "cell_type": "code",
   "execution_count": 405,
   "metadata": {
    "collapsed": false
   },
   "outputs": [],
   "source": [
    "def fx_erp(x,u,P,M):\n",
    "    \"\"\"\n",
    "    % State equations for a neural mass model of erps\n",
    "  \n",
    "    Port of spm_fx_erp.m\n",
    "  \n",
    "    Usage: \n",
    "  \n",
    "      f,J,D = spm_fx_erp(x,u,P,M,returnJ=True,returnD=True)\n",
    "   \n",
    "    x      - state vector\n",
    "    x(:,1) - voltage (spiny stellate cells)\n",
    "    x(:,2) - voltage (pyramidal cells) +ve\n",
    "    x(:,3) - voltage (pyramidal cells) -ve\n",
    "    x(:,4) - current (spiny stellate cells)    depolarizing\n",
    "    x(:,5) - current (pyramidal cells)         depolarizing\n",
    "    x(:,6) - current (pyramidal cells)         hyperpolarizing\n",
    "    x(:,7) - voltage (inhibitory interneurons)\n",
    "    x(:,8) - current (inhibitory interneurons) depolarizing\n",
    "    x(:,9) - voltage (pyramidal cells)\n",
    "\n",
    "    f        - dx(t)/dt  = f(x(t))\n",
    "    J        - df(t)/dx(t)\n",
    "    D        - delay operator dx(t)/dt = f(x(t - d)) = D(d)*f(x(t))\n",
    "\n",
    "    Prior fixed parameter scaling [Defaults]\n",
    "\n",
    "    M.pF.E = [32 16 4];           % extrinsic rates (forward, backward, lateral)\n",
    "    M.pF.H = [1 4/5 1/4 1/4]*128; % intrinsic rates (g1, g2 g3, g4)\n",
    "    M.pF.D = [2 16];              % propogation delays (intrinsic, extrinsic)\n",
    "    M.pF.G = [4 32];              % receptor densities (excitatory, inhibitory)\n",
    "    M.pF.T = [8 16];              % synaptic constants (excitatory, inhibitory)\n",
    "    M.pF.S = [1 1/2];             % parameters of activation function\n",
    "\n",
    "\n",
    "    JG 2017\n",
    "    \"\"\"\n",
    "\n",
    "    \n",
    "    \n",
    "    \"\"\"\n",
    "    % get dimensions and configure state variables\n",
    "    %--------------------------------------------------------------------------   \n",
    "    n = length(P.A{1});         % number of sources\n",
    "    x = spm_unvec(x,M.x);       % neuronal states\n",
    "    \"\"\";\n",
    "\n",
    "    n = len(P['A'][0]);        # % number of sources      # TO DO\n",
    "    \n",
    "    \n",
    "    x = spm_unvec(x,M['x']);       # % neuronal states\n",
    "\n",
    "    \n",
    "    \"\"\"\n",
    "    #% [default] fixed parameters\n",
    "    #%--------------------------------------------------------------------------\n",
    "    E = [1 1/2 1/8]*32;         % extrinsic rates (forward, backward, lateral)\n",
    "    G = [1 4/5 1/4 1/4]*128;    % intrinsic rates (g1 g2 g3 g4)\n",
    "    D = [2 16];                 % propogation delays (intrinsic, extrinsic)\n",
    "    H = [4 32];                 % receptor densities (excitatory, inhibitory)\n",
    "    T = [8 16];                 % synaptic constants (excitatory, inhibitory)\n",
    "    R = [2 1]/3;                % parameters of static nonlinearity\n",
    "    \"\"\";\n",
    "    \n",
    "    E = np.array([1., 1/2., 1/8.,])*32;         # extrinsic rates (forward, backward, lateral)\n",
    "    G = np.array([1, 4/5., 1/4., 1/4*128.]);   # % intrinsic rates (g1 g2 g3 g4)    \n",
    "    D = np.array([2, 16]);  #               % propogation delays (intrinsic, extrinsic)\n",
    "    H = np.array([4, 32]);  #               % receptor densities (excitatory, inhibitory)\n",
    "    T = np.array([8, 16]);  #               % synaptic constants (excitatory, inhibitory)\n",
    "    R = np.array([2, 1])/3.;                #% parameters of static nonlinearity\n",
    "\n",
    "    \n",
    "    \"\"\"\n",
    "    % [specified] fixed parameters\n",
    "    %--------------------------------------------------------------------------\n",
    "    if isfield(M,'pF')\n",
    "     try, E = M.pF.E; end\n",
    "     try, G = M.pF.H; end\n",
    "     try, D = M.pF.D; end\n",
    "     try, H = M.pF.G; end\n",
    "     try, T = M.pF.T; end\n",
    "     try, R = M.pF.R; end\n",
    "    end   \n",
    "    \"\"\"   \n",
    "    \n",
    "    \n",
    "    if 'pF' in M:             # if isfield(M,'pF')\n",
    "        try: E = M['pF']['E']; \n",
    "        except: _\n",
    "        try: G = M['pF']['H']; \n",
    "        except: _\n",
    "        try: D = M['pF']['D']; \n",
    "        except: _\n",
    "        try: H = M['pF']['G']; \n",
    "        except: _\n",
    "        try: T = M['pF']['T']; \n",
    "        except: _  \n",
    "        try: R = M['pF']['R']; \n",
    "        except: _  \n",
    "\n",
    "    \"\"\"\n",
    "    #% test for free parameters on intrinsic connections\n",
    "    #%--------------------------------------------------------------------------\n",
    "    try\n",
    "      G = G.*exp(P.H);\n",
    "    end\n",
    "    G     = ones(n,1)*G;\n",
    "    \"\"\"\n",
    "    try:\n",
    "        G = G*np.exp(P['H']);\n",
    "    except: _\n",
    "    G     = np.ones([n,1])*G;\n",
    "    \n",
    "    \n",
    "    \"\"\"\n",
    "    % exponential transform to ensure positivity constraints\n",
    "    %--------------------------------------------------------------------------\n",
    "    A{1}  = exp(P.A{1})*E(1);\n",
    "    A{2}  = exp(P.A{2})*E(2);\n",
    "    A{3}  = exp(P.A{3})*E(3);\n",
    "    C     = exp(P.C);\n",
    "    \"\"\"\n",
    "    A[0] = np.exp(P['A'][0])*E[0]\n",
    "    A[1] = np.exp(P['A'][1])*E[1]    \n",
    "    A[2] = np.exp(P['A'][2])*E[2]\n",
    "    C = np.exp(P['C'])\n",
    "    \n",
    "    \"\"\"\n",
    "    % intrinsic connectivity and parameters\n",
    "    %--------------------------------------------------------------------------\n",
    "    Te    = T(1)/1000*exp(P.T(:,1));         % excitatory time constants\n",
    "    Ti    = T(2)/1000*exp(P.T(:,2));         % inhibitory time constants\n",
    "    He    = H(1)*exp(P.G(:,1));              % excitatory receptor density\n",
    "    Hi    = H(2)*exp(P.G(:,2));              % inhibitory receptor density\n",
    "    \"\"\"\n",
    "    Te = T[0]/1000*np.exp(P['T'][:,0])\n",
    "    Ti = T[1]/1000*np.exp(P['T'][:,1])\n",
    "    He = H[0]*np.exp(P['G'][:,0])\n",
    "    Hi = H[1]*np.exp(P['G'][:,1])    \n",
    "\n",
    "    \"\"\"\n",
    "    % pre-synaptic inputs: s(V)\n",
    "    %--------------------------------------------------------------------------\n",
    "    R     = R.*exp(P.S);\n",
    "    S     = 1./(1 + exp(-R(1)*(x - R(2)))) - 1./(1 + exp(R(1)*R(2)));\n",
    "    \"\"\"\n",
    "    R = R*np.exp(P['S'])\n",
    "    S = 1./(1 + np.exp(-R[0]*(x - R[1]))) - 1./(1 + np.exp(R[0]*R[1]));\n",
    "    \n",
    "    \"\"\"\n",
    "    % input\n",
    "    %==========================================================================\n",
    "    if isfield(M,'u')\n",
    "    \n",
    "      % endogenous input\n",
    "      %----------------------------------------------------------------------\n",
    "      U = u(:)*64;\n",
    "    \n",
    "    else\n",
    "      % exogenous input\n",
    "      %----------------------------------------------------------------------\n",
    "      U = C*u(:)*2;\n",
    "    end\n",
    "    \"\"\"\n",
    "    if 'u' in M:\n",
    "        #% endogenous input\n",
    "        #%----------------------------------------------------------------------\n",
    "        #U = u(:)*64;\n",
    "        U = u[:]*64.\n",
    "        \n",
    "    else:\n",
    "        #% exogenous input\n",
    "        #%----------------------------------------------------------------------\n",
    "        #U = C*u(:)*2;\n",
    "        U = C*u[:]*2\n",
    "    \n",
    "    \n",
    "    #% State: f(x)\n",
    "    #%==========================================================================\n",
    "\n",
    "    \"\"\"\n",
    "    % Supragranular layer (inhibitory interneurons): Voltage & depolarizing current\n",
    "    %--------------------------------------------------------------------------\n",
    "    f(:,7) = x(:,8);\n",
    "    f(:,8) = (He.*((A{2} + A{3})*S(:,9) + G(:,3).*S(:,9)) - 2*x(:,8) - x(:,7)./Te)./Te;\n",
    "    \"\"\"\n",
    "    f[:,6] = x[:,7]\n",
    "    f[:,7] = (He*( (A[1] + A[2]) * S[:,8] + G[:,2]*S[:,8]) - 2*x[:,7] - x[:,6]/Te)/Te\n",
    "    \n",
    "    \"\"\"\n",
    "    % Granular layer (spiny stellate cells): Voltage & depolarizing current\n",
    "    %--------------------------------------------------------------------------\n",
    "    f(:,1) = x(:,4);\n",
    "    f(:,4) = (He.*((A{1} + A{3})*S(:,9) + G(:,1).*S(:,9) + U) - 2*x(:,4) - x(:,1)./Te)./Te;\n",
    "    \"\"\"\n",
    "    f[:,0] = x[:,3];\n",
    "    f[:,3] = (He*((A[0] + A[2])*S[:,8] + G[:,0]*S[:,8] + U) - 2*x[:,3] - x[:,0]/Te)/Te;\n",
    "\n",
    "    \"\"\"\n",
    "    % Infra-granular layer (pyramidal cells): depolarizing current\n",
    "    %--------------------------------------------------------------------------\n",
    "    f(:,2) = x(:,5);\n",
    "    f(:,5) = (He.*((A{2} + A{3})*S(:,9) + G(:,2).*S(:,1)) - 2*x(:,5) - x(:,2)./Te)./Te;\n",
    "    \"\"\"\n",
    "    f[:,1] = x[:,4];\n",
    "    f[:,4] = (He*((A[1] + A[2])*S[:,8] + G[:,1]*S[:,0]) - 2*x[:,4] - x[:,1]/Te)/Te;\n",
    "\n",
    "    \n",
    "    \"\"\"\n",
    "    % Infra-granular layer (pyramidal cells): hyperpolarizing current\n",
    "    %--------------------------------------------------------------------------\n",
    "    f(:,3) = x(:,6);\n",
    "    f(:,6) = (Hi.*G(:,4).*S(:,7) - 2*x(:,6) - x(:,3)./Ti)./Ti;\n",
    "    \"\"\"\n",
    "    f[:,2] = x[:,5];\n",
    "    f[:,5] = (Hi*G[:,3]*S[:,6] - 2*x[:,5] - x[:,2]/Ti)/Ti;\n",
    "\n",
    "    \"\"\"\n",
    "    % Infra-granular layer (pyramidal cells): Voltage\n",
    "    %--------------------------------------------------------------------------\n",
    "    f(:,9) = x(:,5) - x(:,6);\n",
    "    f      = spm_vec(f);\n",
    "    \"\"\"\n",
    "    f[:,8] = x[:,4] - x[:,5];\n",
    "    \n",
    "    \n",
    "    #f = spm_vec(f);\n",
    "    f = spm_vec(f)\n",
    "\n",
    "\n",
    "    #if nargout < 2; return, end\n",
    "    if returnJ == False and returnD == False:\n",
    "        return f\n",
    "    else: \n",
    "    \n",
    "        \"\"\"\n",
    "        % Jacobian\n",
    "        %==========================================================================\n",
    "        J  = spm_diff(M.f,x,u,P,M,1);\n",
    "        \"\"\"\n",
    "\n",
    "        # TO DO\n",
    "        #J  = spm_diff(M.f,x,u,P,M,1);\n",
    "        J = diff_dfdx(M['f'],x,u,P,M,1)\n",
    "    \n",
    "        \"\"\"\n",
    "        % delays\n",
    "        %==========================================================================\n",
    "        % Delay differential equations can be integrated efficiently (but\n",
    "        % approximately) by absorbing the delay operator into the Jacobian \n",
    "        %\n",
    "        %    dx(t)/dt     = f(x(t - d))\n",
    "        %                 = Q(d)f(x(t)) \n",
    "        %\n",
    "        %    J(d)         = Q(d)df/dx\n",
    "        %--------------------------------------------------------------------------\n",
    "        De = D(2).*exp(P.D)/1000;\n",
    "        Di = D(1)/1000;\n",
    "        De = (1 - speye(n,n)).*De;\n",
    "        Di = (1 - speye(9,9)).*Di;\n",
    "        De = kron(ones(9,9),De);\n",
    "        Di = kron(Di,speye(n,n));\n",
    "        D  = Di + De;\n",
    "        \"\"\"\n",
    "    \n",
    "        De = D[1] * np.exp(P['D'])/1000.\n",
    "        Di = D[0] / 1000.\n",
    "    \n",
    "        De = np.array*([1-sps.eye(n,n)])*De\n",
    "        Di = np.array*([1-sps.eye(9,9)])*Di\n",
    "\n",
    "        De = np.kron(np.ones([9,9]),De)\n",
    "        Di = np.kron(Di,sps.eye([n,n]))\n",
    "                  \n",
    "        D = Di + De\n",
    "    \n",
    "        \n",
    "\n",
    "        \"\"\"\n",
    "        % Implement: dx(t)/dt = f(x(t - d)) = inv(1 + D.*dfdx)*f(x(t))\n",
    "        %                     = Q*f = Q*J*x(t)\n",
    "        %--------------------------------------------------------------------------\n",
    "        Q  = inv(speye(length(J)) + D.*J);\n",
    "        \"\"\";\n",
    "        \n",
    "        Q = np.linalg.inv(sps.eye(len(J)) + D*J)\n",
    "\n",
    "        return f,j,D\n",
    "    \n",
    "\n",
    "\n"
   ]
  },
  {
   "cell_type": "markdown",
   "metadata": {},
   "source": [
    "***tests:***"
   ]
  },
  {
   "cell_type": "markdown",
   "metadata": {},
   "source": [
    "## spm_diff port"
   ]
  },
  {
   "cell_type": "code",
   "execution_count": 409,
   "metadata": {
    "collapsed": false
   },
   "outputs": [
    {
     "ename": "ValueError",
     "evalue": "'/home/jgriffiths/Code/libraries_of_others/misc/SPM/spm12/toolbox/DEM/spm_dfdx.m' was not found in history, as a file, url, nor in the user namespace.",
     "output_type": "error",
     "traceback": [
      "\u001b[0;31m---------------------------------------------------------------------------\u001b[0m",
      "\u001b[0;31mValueError\u001b[0m                                Traceback (most recent call last)",
      "\u001b[0;32m<ipython-input-409-80e170245257>\u001b[0m in \u001b[0;36m<module>\u001b[0;34m()\u001b[0m\n\u001b[0;32m----> 1\u001b[0;31m \u001b[0mget_ipython\u001b[0m\u001b[0;34m(\u001b[0m\u001b[0;34m)\u001b[0m\u001b[0;34m.\u001b[0m\u001b[0mmagic\u001b[0m\u001b[0;34m(\u001b[0m\u001b[0;34mu'load /home/jgriffiths/Code/libraries_of_others/misc/SPM/spm12/toolbox/DEM/spm_dfdx.m'\u001b[0m\u001b[0;34m)\u001b[0m\u001b[0;34m\u001b[0m\u001b[0m\n\u001b[0m",
      "\u001b[0;32m/home/jgriffiths/Software/anaconda2/envs/jupyter_release/lib/python2.7/site-packages/IPython/core/interactiveshell.pyc\u001b[0m in \u001b[0;36mmagic\u001b[0;34m(self, arg_s)\u001b[0m\n\u001b[1;32m   2156\u001b[0m         \u001b[0mmagic_name\u001b[0m\u001b[0;34m,\u001b[0m \u001b[0m_\u001b[0m\u001b[0;34m,\u001b[0m \u001b[0mmagic_arg_s\u001b[0m \u001b[0;34m=\u001b[0m \u001b[0marg_s\u001b[0m\u001b[0;34m.\u001b[0m\u001b[0mpartition\u001b[0m\u001b[0;34m(\u001b[0m\u001b[0;34m' '\u001b[0m\u001b[0;34m)\u001b[0m\u001b[0;34m\u001b[0m\u001b[0m\n\u001b[1;32m   2157\u001b[0m         \u001b[0mmagic_name\u001b[0m \u001b[0;34m=\u001b[0m \u001b[0mmagic_name\u001b[0m\u001b[0;34m.\u001b[0m\u001b[0mlstrip\u001b[0m\u001b[0;34m(\u001b[0m\u001b[0mprefilter\u001b[0m\u001b[0;34m.\u001b[0m\u001b[0mESC_MAGIC\u001b[0m\u001b[0;34m)\u001b[0m\u001b[0;34m\u001b[0m\u001b[0m\n\u001b[0;32m-> 2158\u001b[0;31m         \u001b[0;32mreturn\u001b[0m \u001b[0mself\u001b[0m\u001b[0;34m.\u001b[0m\u001b[0mrun_line_magic\u001b[0m\u001b[0;34m(\u001b[0m\u001b[0mmagic_name\u001b[0m\u001b[0;34m,\u001b[0m \u001b[0mmagic_arg_s\u001b[0m\u001b[0;34m)\u001b[0m\u001b[0;34m\u001b[0m\u001b[0m\n\u001b[0m\u001b[1;32m   2159\u001b[0m \u001b[0;34m\u001b[0m\u001b[0m\n\u001b[1;32m   2160\u001b[0m     \u001b[0;31m#-------------------------------------------------------------------------\u001b[0m\u001b[0;34m\u001b[0m\u001b[0;34m\u001b[0m\u001b[0m\n",
      "\u001b[0;32m/home/jgriffiths/Software/anaconda2/envs/jupyter_release/lib/python2.7/site-packages/IPython/core/interactiveshell.pyc\u001b[0m in \u001b[0;36mrun_line_magic\u001b[0;34m(self, magic_name, line)\u001b[0m\n\u001b[1;32m   2077\u001b[0m                 \u001b[0mkwargs\u001b[0m\u001b[0;34m[\u001b[0m\u001b[0;34m'local_ns'\u001b[0m\u001b[0;34m]\u001b[0m \u001b[0;34m=\u001b[0m \u001b[0msys\u001b[0m\u001b[0;34m.\u001b[0m\u001b[0m_getframe\u001b[0m\u001b[0;34m(\u001b[0m\u001b[0mstack_depth\u001b[0m\u001b[0;34m)\u001b[0m\u001b[0;34m.\u001b[0m\u001b[0mf_locals\u001b[0m\u001b[0;34m\u001b[0m\u001b[0m\n\u001b[1;32m   2078\u001b[0m             \u001b[0;32mwith\u001b[0m \u001b[0mself\u001b[0m\u001b[0;34m.\u001b[0m\u001b[0mbuiltin_trap\u001b[0m\u001b[0;34m:\u001b[0m\u001b[0;34m\u001b[0m\u001b[0m\n\u001b[0;32m-> 2079\u001b[0;31m                 \u001b[0mresult\u001b[0m \u001b[0;34m=\u001b[0m \u001b[0mfn\u001b[0m\u001b[0;34m(\u001b[0m\u001b[0;34m*\u001b[0m\u001b[0margs\u001b[0m\u001b[0;34m,\u001b[0m\u001b[0;34m**\u001b[0m\u001b[0mkwargs\u001b[0m\u001b[0;34m)\u001b[0m\u001b[0;34m\u001b[0m\u001b[0m\n\u001b[0m\u001b[1;32m   2080\u001b[0m             \u001b[0;32mreturn\u001b[0m \u001b[0mresult\u001b[0m\u001b[0;34m\u001b[0m\u001b[0m\n\u001b[1;32m   2081\u001b[0m \u001b[0;34m\u001b[0m\u001b[0m\n",
      "\u001b[0;32m<decorator-gen-45>\u001b[0m in \u001b[0;36mload\u001b[0;34m(self, arg_s)\u001b[0m\n",
      "\u001b[0;32m/home/jgriffiths/Software/anaconda2/envs/jupyter_release/lib/python2.7/site-packages/IPython/core/magic.pyc\u001b[0m in \u001b[0;36m<lambda>\u001b[0;34m(f, *a, **k)\u001b[0m\n\u001b[1;32m    186\u001b[0m     \u001b[0;31m# but it's overkill for just that one bit of state.\u001b[0m\u001b[0;34m\u001b[0m\u001b[0;34m\u001b[0m\u001b[0m\n\u001b[1;32m    187\u001b[0m     \u001b[0;32mdef\u001b[0m \u001b[0mmagic_deco\u001b[0m\u001b[0;34m(\u001b[0m\u001b[0marg\u001b[0m\u001b[0;34m)\u001b[0m\u001b[0;34m:\u001b[0m\u001b[0;34m\u001b[0m\u001b[0m\n\u001b[0;32m--> 188\u001b[0;31m         \u001b[0mcall\u001b[0m \u001b[0;34m=\u001b[0m \u001b[0;32mlambda\u001b[0m \u001b[0mf\u001b[0m\u001b[0;34m,\u001b[0m \u001b[0;34m*\u001b[0m\u001b[0ma\u001b[0m\u001b[0;34m,\u001b[0m \u001b[0;34m**\u001b[0m\u001b[0mk\u001b[0m\u001b[0;34m:\u001b[0m \u001b[0mf\u001b[0m\u001b[0;34m(\u001b[0m\u001b[0;34m*\u001b[0m\u001b[0ma\u001b[0m\u001b[0;34m,\u001b[0m \u001b[0;34m**\u001b[0m\u001b[0mk\u001b[0m\u001b[0;34m)\u001b[0m\u001b[0;34m\u001b[0m\u001b[0m\n\u001b[0m\u001b[1;32m    189\u001b[0m \u001b[0;34m\u001b[0m\u001b[0m\n\u001b[1;32m    190\u001b[0m         \u001b[0;32mif\u001b[0m \u001b[0mcallable\u001b[0m\u001b[0;34m(\u001b[0m\u001b[0marg\u001b[0m\u001b[0;34m)\u001b[0m\u001b[0;34m:\u001b[0m\u001b[0;34m\u001b[0m\u001b[0m\n",
      "\u001b[0;32m/home/jgriffiths/Software/anaconda2/envs/jupyter_release/lib/python2.7/site-packages/IPython/core/magics/code.pyc\u001b[0m in \u001b[0;36mload\u001b[0;34m(self, arg_s)\u001b[0m\n\u001b[1;32m    348\u001b[0m         \u001b[0msearch_ns\u001b[0m \u001b[0;34m=\u001b[0m \u001b[0;34m'n'\u001b[0m \u001b[0;32min\u001b[0m \u001b[0mopts\u001b[0m\u001b[0;34m\u001b[0m\u001b[0m\n\u001b[1;32m    349\u001b[0m \u001b[0;34m\u001b[0m\u001b[0m\n\u001b[0;32m--> 350\u001b[0;31m         \u001b[0mcontents\u001b[0m \u001b[0;34m=\u001b[0m \u001b[0mself\u001b[0m\u001b[0;34m.\u001b[0m\u001b[0mshell\u001b[0m\u001b[0;34m.\u001b[0m\u001b[0mfind_user_code\u001b[0m\u001b[0;34m(\u001b[0m\u001b[0margs\u001b[0m\u001b[0;34m,\u001b[0m \u001b[0msearch_ns\u001b[0m\u001b[0;34m=\u001b[0m\u001b[0msearch_ns\u001b[0m\u001b[0;34m)\u001b[0m\u001b[0;34m\u001b[0m\u001b[0m\n\u001b[0m\u001b[1;32m    351\u001b[0m \u001b[0;34m\u001b[0m\u001b[0m\n\u001b[1;32m    352\u001b[0m         \u001b[0;32mif\u001b[0m \u001b[0;34m's'\u001b[0m \u001b[0;32min\u001b[0m \u001b[0mopts\u001b[0m\u001b[0;34m:\u001b[0m\u001b[0;34m\u001b[0m\u001b[0m\n",
      "\u001b[0;32m/home/jgriffiths/Software/anaconda2/envs/jupyter_release/lib/python2.7/site-packages/IPython/core/interactiveshell.pyc\u001b[0m in \u001b[0;36mfind_user_code\u001b[0;34m(self, target, raw, py_only, skip_encoding_cookie, search_ns)\u001b[0m\n\u001b[1;32m   3183\u001b[0m         \u001b[0;32mexcept\u001b[0m \u001b[0mException\u001b[0m\u001b[0;34m:\u001b[0m\u001b[0;34m\u001b[0m\u001b[0m\n\u001b[1;32m   3184\u001b[0m             raise ValueError((\"'%s' was not found in history, as a file, url, \"\n\u001b[0;32m-> 3185\u001b[0;31m                                 \"nor in the user namespace.\") % target)\n\u001b[0m\u001b[1;32m   3186\u001b[0m \u001b[0;34m\u001b[0m\u001b[0m\n\u001b[1;32m   3187\u001b[0m         \u001b[0;32mif\u001b[0m \u001b[0misinstance\u001b[0m\u001b[0;34m(\u001b[0m\u001b[0mcodeobj\u001b[0m\u001b[0;34m,\u001b[0m \u001b[0mstring_types\u001b[0m\u001b[0;34m)\u001b[0m\u001b[0;34m:\u001b[0m\u001b[0;34m\u001b[0m\u001b[0m\n",
      "\u001b[0;31mValueError\u001b[0m: '/home/jgriffiths/Code/libraries_of_others/misc/SPM/spm12/toolbox/DEM/spm_dfdx.m' was not found in history, as a file, url, nor in the user namespace."
     ]
    }
   ],
   "source": [
    "%load /home/jgriffiths/Code/libraries_of_others/misc/SPM/spm12/spm_dfdx.m"
   ]
  },
  {
   "cell_type": "code",
   "execution_count": null,
   "metadata": {
    "collapsed": true
   },
   "outputs": [],
   "source": [
    "# %load /home/jgriffiths/Code/libraries_of_others/misc/SPM/spm12/spm_diff.m"
   ]
  },
  {
   "cell_type": "code",
   "execution_count": null,
   "metadata": {
    "collapsed": true
   },
   "outputs": [],
   "source": [
    "def spm_diff(f,x,n,V=None,q=None):\n",
    "  \"\"\"\n",
    "  \n",
    "  matrix high-order numerical differnetiation\n",
    "  \n",
    "  port of spm_diff.m\n",
    "  \n",
    "  \n",
    "  JG June 2017\n",
    "  \n",
    "  \"\"\"    \n",
    "% matrix high-order numerical differentiation\n",
    "% FORMAT [dfdx] = spm_diff(f,x,...,n)\n",
    "% FORMAT [dfdx] = spm_diff(f,x,...,n,V)\n",
    "% FORMAT [dfdx] = spm_diff(f,x,...,n,'q')\n",
    "%\n",
    "% f      - [inline] function f(x{1},...)\n",
    "% x      - input argument[s]\n",
    "% n      - arguments to differentiate w.r.t.\n",
    "%\n",
    "% V      - cell array of matrices that allow for differentiation w.r.t.\n",
    "% to a linear transformation of the parameters: i.e., returns\n",
    "%\n",
    "% df/dy{i};    x = V{i}y{i};    V = dx(i)/dy(i)\n",
    "%\n",
    "% q      - (char) flag to preclude default concatenation of dfdx\n",
    "%\n",
    "% dfdx          - df/dx{i}                     ; n =  i\n",
    "% dfdx{p}...{q} - df/dx{i}dx{j}(q)...dx{k}(p)  ; n = [i j ... k]\n",
    "%\n",
    "%\n",
    "% - a cunning recursive routine\n",
    "%__________________________________________________________________________\n",
    "% Copyright (C) 2008 Wellcome Trust Centre for Neuroimaging\n",
    "\n",
    "% Karl Friston\n",
    "% $Id: spm_diff.m 6110 2014-07-21 09:36:13Z karl $\n",
    "\n",
    "% create inline object\n",
    "%--------------------------------------------------------------------------\n",
    "f     = spm_funcheck(varargin{1});\n",
    "\n",
    "% parse input arguments\n",
    "%--------------------------------------------------------------------------\n",
    "if iscell(varargin{end})\n",
    "    x = varargin(2:(end - 2));\n",
    "    n = varargin{end - 1};\n",
    "    V = varargin{end};\n",
    "    q = 1;\n",
    "elseif isnumeric(varargin{end})\n",
    "    x = varargin(2:(end - 1));\n",
    "    n = varargin{end};\n",
    "    V = cell(1,length(x));\n",
    "    q = 1;\n",
    "elseif ischar(varargin{end})\n",
    "    x = varargin(2:(end - 2));\n",
    "    n = varargin{end - 1};\n",
    "    V = cell(1,length(x));\n",
    "    q = 0;\n",
    "else\n",
    "    error('improper call')\n",
    "end\n",
    "\n",
    "% check transform matrices V = dxdy\n",
    "%--------------------------------------------------------------------------\n",
    "for i = 1:length(x)\n",
    "    try\n",
    "        V{i};\n",
    "    catch\n",
    "        V{i} = [];\n",
    "    end\n",
    "    if isempty(V{i}) && any(n == i);\n",
    "        V{i} = speye(spm_length(x{i}));\n",
    "    end\n",
    "end\n",
    "\n",
    "% initialise\n",
    "%--------------------------------------------------------------------------\n",
    "m     = n(end);\n",
    "xm    = spm_vec(x{m});\n",
    "dx    = exp(-8);\n",
    "J     = cell(1,size(V{m},2));\n",
    "\n",
    "% proceed to derivatives\n",
    "%==========================================================================\n",
    "if length(n) == 1\n",
    "    \n",
    "    % dfdx\n",
    "    %----------------------------------------------------------------------\n",
    "    f0    = f(x{:});\n",
    "    for i = 1:length(J)\n",
    "        xi    = x;\n",
    "        xi{m} = spm_unvec(xm + V{m}(:,i)*dx,x{m});\n",
    "        J{i}  = spm_dfdx(f(xi{:}),f0,dx);\n",
    "    end\n",
    "\n",
    "    \n",
    "    % return numeric array for first-order derivatives\n",
    "    %======================================================================\n",
    "    \n",
    "    % vectorise f\n",
    "    %----------------------------------------------------------------------\n",
    "    f  = spm_vec(f0);\n",
    "    \n",
    "    % if there are no arguments to differentiate w.r.t. ...\n",
    "    %----------------------------------------------------------------------\n",
    "    if isempty(xm)\n",
    "        J = sparse(length(f),0);\n",
    "        \n",
    "        % or there are no arguments to differentiate\n",
    "        %----------------------------------------------------------------------\n",
    "    elseif isempty(f)\n",
    "        J = sparse(0,length(xm));\n",
    "    end\n",
    "    \n",
    "    % or differentiation of a vector\n",
    "    %----------------------------------------------------------------------\n",
    "    if isvector(f0) && isnumeric(f0) && q\n",
    "        \n",
    "        % concatenate into a matrix\n",
    "        %------------------------------------------------------------------\n",
    "        if size(f0,2) == 1\n",
    "            J = spm_cat(J);\n",
    "        else\n",
    "            J = spm_cat(J')';\n",
    "        end\n",
    "    end\n",
    "    \n",
    "    % assign output argument and return\n",
    "    %----------------------------------------------------------------------\n",
    "    varargout{1} = J;\n",
    "    varargout{2} = f0;\n",
    "    \n",
    "else\n",
    "    \n",
    "    % dfdxdxdx....\n",
    "    %----------------------------------------------------------------------\n",
    "    f0        = cell(1,length(n));\n",
    "    [f0{:}]   = spm_diff(f,x{:},n(1:end - 1),V);\n",
    "    \n",
    "    for i = 1:length(J)\n",
    "        xi    = x;\n",
    "        xmi   = xm + V{m}(:,i)*dx;\n",
    "        xi{m} = spm_unvec(xmi,x{m});\n",
    "        fi    = spm_diff(f,xi{:},n(1:end - 1),V);\n",
    "        J{i}  = spm_dfdx(fi,f0{1},dx);\n",
    "    end\n",
    "    varargout = [{J} f0];\n",
    "end"
   ]
  },
  {
   "cell_type": "code",
   "execution_count": null,
   "metadata": {
    "collapsed": true
   },
   "outputs": [],
   "source": [
    "def spm_dfdx(f,f0,dx):\n",
    "\n",
    "    \"\"\"\n",
    "    port of spm_dfdx\n",
    "    ...which is defined at the bottom of spm_diff.m\n",
    "    \n",
    "    \"\"\"\n",
    "    \n",
    "    \"\"\"\n",
    "    function dfdx = spm_dfdx(f,f0,dx)\n",
    "    % cell subtraction\n",
    "    %--------------------------------------------------------------------------\n",
    "    \"\"\"\n",
    "    \n",
    "    \"\"\"\n",
    "    if iscell(f)\n",
    "      dfdx  = f;\n",
    "      for i = 1:length(f(:))\n",
    "        dfdx{i} = spm_dfdx(f{i},f0{i},dx);\n",
    "      end  \n",
    "    elseif isstruct(f)\n",
    "      dfdx  = (spm_vec(f) - spm_vec(f0))/dx;\n",
    "    else\n",
    "      dfdx  = (f - f0)/dx;\n",
    "    end\n",
    "    \"\"\";\n",
    "    \n",
    "    # Check if input is a dict(cell)\n",
    "    # ...if it is, loop through elements and \n",
    "    # re-call this function\n",
    "    # ...if it isn't, \n",
    "    # \n",
    "\n",
    "    dfdx = []\n",
    "    if type(f) == list:\n",
    "        dfdx  = f;\n",
    "        for i = in f[:]: \n",
    "            dfdx{i} = spm_dfdx(f{i},f0{i},dx);\n",
    "    elif isstruct(f)\n",
    "      dfdx  = (spm_vec(f) - spm_vec(f0))/dx;\n",
    "    else\n",
    "      dfdx  = (f - f0)/dx;\n",
    "    end\n",
    "    \"\"\";\n",
    "    \n",
    "    \n",
    "    \n",
    "    "
   ]
  },
  {
   "cell_type": "code",
   "execution_count": null,
   "metadata": {
    "collapsed": true
   },
   "outputs": [],
   "source": [
    "# %load /home/jgriffiths/Code/libraries_of_others/misc/SPM/spm12/spm_diff.m\n",
    "function [varargout] = spm_diff(varargin)\n",
    "% matrix high-order numerical differentiation\n",
    "% FORMAT [dfdx] = spm_diff(f,x,...,n)\n",
    "% FORMAT [dfdx] = spm_diff(f,x,...,n,V)\n",
    "% FORMAT [dfdx] = spm_diff(f,x,...,n,'q')\n",
    "%\n",
    "% f      - [inline] function f(x{1},...)\n",
    "% x      - input argument[s]\n",
    "% n      - arguments to differentiate w.r.t.\n",
    "%\n",
    "% V      - cell array of matrices that allow for differentiation w.r.t.\n",
    "% to a linear transformation of the parameters: i.e., returns\n",
    "%\n",
    "% df/dy{i};    x = V{i}y{i};    V = dx(i)/dy(i)\n",
    "%\n",
    "% q      - (char) flag to preclude default concatenation of dfdx\n",
    "%\n",
    "% dfdx          - df/dx{i}                     ; n =  i\n",
    "% dfdx{p}...{q} - df/dx{i}dx{j}(q)...dx{k}(p)  ; n = [i j ... k]\n",
    "%\n",
    "%\n",
    "% - a cunning recursive routine\n",
    "%__________________________________________________________________________\n",
    "% Copyright (C) 2008 Wellcome Trust Centre for Neuroimaging\n",
    "\n",
    "% Karl Friston\n",
    "% $Id: spm_diff.m 6110 2014-07-21 09:36:13Z karl $\n",
    "\n",
    "% create inline object\n",
    "%--------------------------------------------------------------------------\n",
    "f     = spm_funcheck(varargin{1});\n",
    "\n",
    "% parse input arguments\n",
    "%--------------------------------------------------------------------------\n",
    "if iscell(varargin{end})\n",
    "    x = varargin(2:(end - 2));\n",
    "    n = varargin{end - 1};\n",
    "    V = varargin{end};\n",
    "    q = 1;\n",
    "elseif isnumeric(varargin{end})\n",
    "    x = varargin(2:(end - 1));\n",
    "    n = varargin{end};\n",
    "    V = cell(1,length(x));\n",
    "    q = 1;\n",
    "elseif ischar(varargin{end})\n",
    "    x = varargin(2:(end - 2));\n",
    "    n = varargin{end - 1};\n",
    "    V = cell(1,length(x));\n",
    "    q = 0;\n",
    "else\n",
    "    error('improper call')\n",
    "end\n",
    "\n",
    "% check transform matrices V = dxdy\n",
    "%--------------------------------------------------------------------------\n",
    "for i = 1:length(x)\n",
    "    try\n",
    "        V{i};\n",
    "    catch\n",
    "        V{i} = [];\n",
    "    end\n",
    "    if isempty(V{i}) && any(n == i);\n",
    "        V{i} = speye(spm_length(x{i}));\n",
    "    end\n",
    "end\n",
    "\n",
    "% initialise\n",
    "%--------------------------------------------------------------------------\n",
    "m     = n(end);\n",
    "xm    = spm_vec(x{m});\n",
    "dx    = exp(-8);\n",
    "J     = cell(1,size(V{m},2));\n",
    "\n",
    "% proceed to derivatives\n",
    "%==========================================================================\n",
    "if length(n) == 1\n",
    "    \n",
    "    % dfdx\n",
    "    %----------------------------------------------------------------------\n",
    "    f0    = f(x{:});\n",
    "    for i = 1:length(J)\n",
    "        xi    = x;\n",
    "        xi{m} = spm_unvec(xm + V{m}(:,i)*dx,x{m});\n",
    "        J{i}  = spm_dfdx(f(xi{:}),f0,dx);\n",
    "    end\n",
    "\n",
    "    \n",
    "    % return numeric array for first-order derivatives\n",
    "    %======================================================================\n",
    "    \n",
    "    % vectorise f\n",
    "    %----------------------------------------------------------------------\n",
    "    f  = spm_vec(f0);\n",
    "    \n",
    "    % if there are no arguments to differentiate w.r.t. ...\n",
    "    %----------------------------------------------------------------------\n",
    "    if isempty(xm)\n",
    "        J = sparse(length(f),0);\n",
    "        \n",
    "        % or there are no arguments to differentiate\n",
    "        %----------------------------------------------------------------------\n",
    "    elseif isempty(f)\n",
    "        J = sparse(0,length(xm));\n",
    "    end\n",
    "    \n",
    "    % or differentiation of a vector\n",
    "    %----------------------------------------------------------------------\n",
    "    if isvector(f0) && isnumeric(f0) && q\n",
    "        \n",
    "        % concatenate into a matrix\n",
    "        %------------------------------------------------------------------\n",
    "        if size(f0,2) == 1\n",
    "            J = spm_cat(J);\n",
    "        else\n",
    "            J = spm_cat(J')';\n",
    "        end\n",
    "    end\n",
    "    \n",
    "    % assign output argument and return\n",
    "    %----------------------------------------------------------------------\n",
    "    varargout{1} = J;\n",
    "    varargout{2} = f0;\n",
    "    \n",
    "else\n",
    "    \n",
    "    % dfdxdxdx....\n",
    "    %----------------------------------------------------------------------\n",
    "    f0        = cell(1,length(n));\n",
    "    [f0{:}]   = spm_diff(f,x{:},n(1:end - 1),V);\n",
    "    \n",
    "    for i = 1:length(J)\n",
    "        xi    = x;\n",
    "        xmi   = xm + V{m}(:,i)*dx;\n",
    "        xi{m} = spm_unvec(xmi,x{m});\n",
    "        fi    = spm_diff(f,xi{:},n(1:end - 1),V);\n",
    "        J{i}  = spm_dfdx(fi,f0{1},dx);\n",
    "    end\n",
    "    varargout = [{J} f0];\n",
    "end\n",
    "\n",
    "\n",
    "function dfdx = spm_dfdx(f,f0,dx)\n",
    "% cell subtraction\n",
    "%--------------------------------------------------------------------------\n",
    "if iscell(f)\n",
    "    dfdx  = f;\n",
    "    for i = 1:length(f(:))\n",
    "        dfdx{i} = spm_dfdx(f{i},f0{i},dx);\n",
    "    end\n",
    "elseif isstruct(f)\n",
    "    dfdx  = (spm_vec(f) - spm_vec(f0))/dx;\n",
    "else\n",
    "    dfdx  = (f - f0)/dx;\n",
    "end\n",
    "\n"
   ]
  },
  {
   "cell_type": "markdown",
   "metadata": {},
   "source": [
    "## spm_vec and spm_unvec ports"
   ]
  },
  {
   "cell_type": "markdown",
   "metadata": {},
   "source": [
    "***code:***"
   ]
  },
  {
   "cell_type": "code",
   "execution_count": 381,
   "metadata": {
    "collapsed": false
   },
   "outputs": [],
   "source": [
    "def spm_vec(X):\n",
    "    # Vectorise a numeric, cell or structure array - a compiled routine\n",
    "    # FORMAT [vX] = spm_vec(X)\n",
    "    #X  - numeric, cell or stucture array[s]\n",
    "    #vX - vec(X)\n",
    "    #X = [np.eye(2),3]\n",
    "    \n",
    "    #  Usage:\n",
    "    #vX = vec(X)\n",
    "    \n",
    "    for v_it,v in enumerate(X):\n",
    "        if v_it == 0:\n",
    "            try:\n",
    "                nr,nc = v.shape\n",
    "                vX = np.reshape(v,[nr*nc,1])\n",
    "            except:\n",
    "                vX = np.array([v][:,np.newaxis])\n",
    "        else:\n",
    "            try:\n",
    "                nr,nc = v.shape\n",
    "                vX = np.concatenate([vX,np.reshape(v,[nr*nc,1])])\n",
    "            except:\n",
    "                vX = np.concatenate([vX,np.array([v])[:,np.newaxis]])            \n",
    "                \n",
    "    return np.squeeze(vX)[:,np.newaxis]\n",
    "\n",
    "\n",
    "\n",
    "def unvec(Xflat,X):\n",
    "\n",
    "    #nr,nc = X.shape\n",
    "    #vX = np.reshape(X,[nr,nc])    \n",
    "    \n",
    "    cnt = 0\n",
    "    vXlist = []\n",
    "    for v_it,v in enumerate(X):\n",
    "        try:\n",
    "            nr,nc = v.shape\n",
    "            rng = np.arange(cnt,nr*nc)\n",
    "            vX = np.reshape(Xflat[rng],[nr,nc])\n",
    "            vXlist.append(vX)\n",
    "            cnt+=1\n",
    "        except: \n",
    "            vXlist.append(v)\n",
    "    \n",
    "    return vXlist\n"
   ]
  },
  {
   "cell_type": "markdown",
   "metadata": {},
   "source": [
    "***tests:***"
   ]
  },
  {
   "cell_type": "markdown",
   "metadata": {},
   "source": [
    "matlab spm_vec "
   ]
  },
  {
   "cell_type": "code",
   "execution_count": 385,
   "metadata": {
    "collapsed": false
   },
   "outputs": [
    {
     "data": {
      "text/plain": [
       "shape: 5  1\n",
       "\n",
       "vX =\n",
       "\n",
       "     1\n",
       "     0\n",
       "     0\n",
       "     1\n",
       "     3\n",
       "\n"
      ]
     },
     "metadata": {},
     "output_type": "display_data"
    }
   ],
   "source": [
    "%%matlab\n",
    "X = {eye(2) 3};\n",
    "vX = spm_vec(X);\n",
    "disp(['shape: ' num2str(size(vX))]);\n",
    "vX"
   ]
  },
  {
   "cell_type": "markdown",
   "metadata": {},
   "source": [
    "python spm_vec"
   ]
  },
  {
   "cell_type": "code",
   "execution_count": 386,
   "metadata": {
    "collapsed": false
   },
   "outputs": [
    {
     "name": "stdout",
     "output_type": "stream",
     "text": [
      "shape: 5,1\n",
      "value: \n",
      "[[ 1.]\n",
      " [ 0.]\n",
      " [ 0.]\n",
      " [ 1.]\n",
      " [ 3.]]\n"
     ]
    }
   ],
   "source": [
    "X = [np.eye(2),3]\n",
    "vX = spm_vec(X)\n",
    "print 'shape: %s,%s' %vX.shape\n",
    "print 'value: \\n%s' %vX"
   ]
  },
  {
   "cell_type": "markdown",
   "metadata": {},
   "source": [
    "matlab spm_unvec"
   ]
  },
  {
   "cell_type": "code",
   "execution_count": 387,
   "metadata": {
    "collapsed": false
   },
   "outputs": [
    {
     "data": {
      "text/plain": [
       "\n",
       "ans =\n",
       "\n",
       "     1     0\n",
       "     0     1\n",
       "\n",
       "\n",
       "ans =\n",
       "\n",
       "     3\n",
       "\n"
      ]
     },
     "metadata": {},
     "output_type": "display_data"
    }
   ],
   "source": [
    "%%matlab\n",
    "X = {eye(2) 3};\n",
    "vX = spm_unvec(spm_vec(X),X);\n",
    "vX{:}"
   ]
  },
  {
   "cell_type": "markdown",
   "metadata": {},
   "source": [
    "python spm_unvec"
   ]
  },
  {
   "cell_type": "code",
   "execution_count": 388,
   "metadata": {
    "collapsed": false
   },
   "outputs": [
    {
     "data": {
      "text/plain": [
       "[array([[ 1.,  0.],\n",
       "        [ 0.,  1.]]), 3]"
      ]
     },
     "execution_count": 388,
     "metadata": {},
     "output_type": "execute_result"
    }
   ],
   "source": [
    "X = [np.eye(2),3]\n",
    "vX = spm_unvec(vec(X),X)\n",
    "#print 'shape: %s,%s' %vX.shape\n",
    "#print 'value: \\n%s' %vX\n",
    "vX"
   ]
  },
  {
   "cell_type": "markdown",
   "metadata": {},
   "source": [
    "## spm_cat port"
   ]
  },
  {
   "cell_type": "markdown",
   "metadata": {},
   "source": [
    "***code***"
   ]
  },
  {
   "cell_type": "markdown",
   "metadata": {},
   "source": [
    "***tests***"
   ]
  },
  {
   "cell_type": "markdown",
   "metadata": {},
   "source": [
    "## spm_length port"
   ]
  },
  {
   "cell_type": "markdown",
   "metadata": {},
   "source": [
    "***code***"
   ]
  },
  {
   "cell_type": "markdown",
   "metadata": {},
   "source": [
    "***tests***"
   ]
  },
  {
   "cell_type": "markdown",
   "metadata": {},
   "source": [
    "---"
   ]
  },
  {
   "cell_type": "code",
   "execution_count": null,
   "metadata": {
    "collapsed": true
   },
   "outputs": [],
   "source": [
    "_,_,D = fx_erp()"
   ]
  },
  {
   "cell_type": "markdown",
   "metadata": {},
   "source": [
    "---"
   ]
  },
  {
   "cell_type": "markdown",
   "metadata": {},
   "source": [
    "## Test matlab vs. python functions"
   ]
  },
  {
   "cell_type": "code",
   "execution_count": 2,
   "metadata": {
    "collapsed": false
   },
   "outputs": [
    {
     "name": "stdout",
     "output_type": "stream",
     "text": [
      "Starting MATLAB on ZMQ socket ipc:///tmp/pymatbridge-587dd83b-4fb5-4066-a12b-7f566714207e\n",
      "Send 'exit' command to kill the server\n",
      "...................MATLAB started and connected!\n"
     ]
    }
   ],
   "source": [
    "%load_ext pymatbridge"
   ]
  },
  {
   "cell_type": "code",
   "execution_count": 3,
   "metadata": {
    "collapsed": true
   },
   "outputs": [],
   "source": [
    "%%matlab\n",
    "\n",
    "addpath(genpath('/home/jgriffiths/Code/libraries_of_others/misc/SPM'));"
   ]
  },
  {
   "cell_type": "markdown",
   "metadata": {},
   "source": [
    "First half of demo function"
   ]
  },
  {
   "cell_type": "code",
   "execution_count": 27,
   "metadata": {
    "collapsed": true
   },
   "outputs": [],
   "source": [
    "%%matlab\n",
    "rng('default')\n",
    "\n",
    "Nc    = 2;                                        % number of channels\n",
    "Ns    = 2;                                        % number of sources\n",
    "\n",
    "options.spatial  = 'LFP';\n",
    "options.model    = 'ERP';\n",
    "options.analysis = 'ERP';\n",
    "M.dipfit.model   = options.model;\n",
    "M.dipfit.type    = options.spatial;\n",
    "M.dipfit.Nc      = Nc;\n",
    "M.dipfit.Ns      = Ns;\n",
    "\n",
    "\n",
    "% sspecify connectivity  reciprocal connections with condition specific\n",
    "% changes in intrinsic and extrinsic connectivity\n",
    "%--------------------------------------------------------------------------\n",
    "A{1}    = [0 0; 1 0];\n",
    "A{2}    = [0 1; 0 0];\n",
    "A{3}    = [0 0; 0 0];\n",
    "B{1}    = [1 0; 1 0];\n",
    "C       = [1; 0];\n",
    "\n",
    "[pE,pC] = spm_dcm_neural_priors(A,B,C,options.model);\n",
    "[gE,gC] = spm_L_priors(M.dipfit);\n",
    "[x,f]   = spm_dcm_x_neural(pE,options.model);\n",
    "\n",
    "% hyperpriors (assuming a high signal to noise)\n",
    "%--------------------------------------------------------------------------\n",
    "hE      = 6;\n",
    "hC      = 1/128;\n",
    "\n",
    "% create model\n",
    "%--------------------------------------------------------------------------\n",
    "M.IS   = 'spm_gen_erp';\n",
    "M.G    = 'spm_lx_erp';\n",
    "M.f    = f;\n",
    "M.x    = x;\n",
    "M.pE   = pE;\n",
    "M.pC   = pC;\n",
    "M.gE   = gE;\n",
    "M.gC   = gC;\n",
    "M.hE   = hE;\n",
    "M.hC   = hC;\n",
    "M.m    = length(B);\n",
    "M.n    = length(spm_vec(M.x));\n",
    "M.l    = Nc;\n",
    "M.ns   = 64;\n",
    "\n",
    "% create input structure\n",
    "%--------------------------------------------------------------------------\n",
    "dt     = 4/1000;\n",
    "pst    = (1:M.ns)*dt;\n",
    "M.ons  = 64;\n",
    "M.dur  = 16;\n",
    "U.dt   = dt;\n",
    "U.X    = [0; 1];\n",
    "\n",
    "% specified true connectivity (P) and spatial parameters (G)  with\n",
    "% condition specific effects on the intrinsic connectivity of the first\n",
    "% source and its forward extrinsic connection\n",
    "%--------------------------------------------------------------------------\n",
    "P      = pE;\n",
    "G      = gE;\n",
    "P.B{1} = [-1/4 0; 1/2 0];\n",
    "\n",
    "\n",
    "% generate neuronal response and data\n",
    "%--------------------------------------------------------------------------\n",
    "x     = spm_gen_erp(P,M,U);                 % neuronal response\n",
    "L     = spm_lx_erp(G,M.dipfit);             % lead field\n",
    "V     = spm_sqrtm(spm_Q(1/2,M.ns));         % square root of noise covariance\n",
    "for i = 1:length(x)\n",
    "    n    = exp(-hE/2)*V*randn(M.ns,Nc);     % noise\n",
    "    s{i} = x{i}*L';                         % signal\n",
    "    y{i} = s{i} + n;                        % data (signal plus noise)\n",
    "end\n",
    "\n",
    "\n",
    "% data structure specification\n",
    "%--------------------------------------------------------------------------\n",
    "Y.y   = y;\n",
    "Y.Q   = {spm_Q(1/2,M.ns,1)};\n",
    "Y.dt  = dt;\n",
    "Y.pst = pst;"
   ]
  },
  {
   "cell_type": "markdown",
   "metadata": {},
   "source": [
    "Push variables to python"
   ]
  },
  {
   "cell_type": "code",
   "execution_count": 31,
   "metadata": {
    "collapsed": false
   },
   "outputs": [],
   "source": [
    "%%matlab -o Y \n",
    "disp('');"
   ]
  },
  {
   "cell_type": "code",
   "execution_count": 34,
   "metadata": {
    "collapsed": false
   },
   "outputs": [
    {
     "data": {
      "text/plain": [
       "2"
      ]
     },
     "execution_count": 34,
     "metadata": {},
     "output_type": "execute_result"
    }
   ],
   "source": [
    "len(Y['y'])"
   ]
  },
  {
   "cell_type": "markdown",
   "metadata": {},
   "source": [
    "Run python version"
   ]
  },
  {
   "cell_type": "markdown",
   "metadata": {},
   "source": [
    "Compare matlab and python values"
   ]
  },
  {
   "cell_type": "code",
   "execution_count": null,
   "metadata": {
    "collapsed": true
   },
   "outputs": [],
   "source": []
  },
  {
   "cell_type": "code",
   "execution_count": null,
   "metadata": {
    "collapsed": true
   },
   "outputs": [],
   "source": []
  },
  {
   "cell_type": "code",
   "execution_count": null,
   "metadata": {
    "collapsed": true
   },
   "outputs": [],
   "source": []
  },
  {
   "cell_type": "code",
   "execution_count": null,
   "metadata": {
    "collapsed": true
   },
   "outputs": [],
   "source": [
    "a"
   ]
  },
  {
   "cell_type": "code",
   "execution_count": null,
   "metadata": {
    "collapsed": true
   },
   "outputs": [],
   "source": []
  },
  {
   "cell_type": "code",
   "execution_count": 25,
   "metadata": {
    "collapsed": false
   },
   "outputs": [
    {
     "ename": "MatlabInterperterError",
     "evalue": "Failed to parse and evaluate line u\"\\n% display\\n%--------------------------------------------------------------------------\\nspm_figure('Getwin','Figure 1');\\nsubplot(2,1,1)\\nplot(pst,x{1},'r',pst,x{2},'b')\\nxlabel('time');ylabel('amplitude');\\ntitle('Hidden neuronal states','FontSize',16)\\n\\nsubplot(2,1,2)\\nplot(pst,s{1},':r',pst,s{2},':b',pst,y{1},'r',pst,y{2},'b')\\nxlabel('time');ylabel('amplitude');\\ntitle('Observed response','FontSize',16)\".\n Matlab error message: u'Java exception occurred: \\ncom.mathworks.hg.util.OutputHelperProcessingException: Problem while processing in an OutputHelper. java.lang.OutOfMemoryError: Java heap space\\n\\tat com.mathworks.hg.util.HGGetframeOutputHelper.generateOutput(HGGetframeOutputHelper.java:216)\\n\\tat com.mathworks.hg.util.HGGetframeOutputHelper$BufferedImageGrabber.grabOnEDT(HGGetframeOutputHelper.java:363)\\n\\tat com.mathworks.hg.util.HGGetframeOutputHelper$BufferedImageGrabber.access$300(HGGetframeOutputHelper.java:344)\\n\\tat com.mathworks.hg.util.HGGetframeOutputHelper$BufferedImageGrabber$1.run(HGGetframeOutputHelper.java:380)\\n\\tat com.mathworks.jmi.AWTUtilities$Invoker$5$1.run(AWTUtilities.java:591)\\n\\tat com.mathworks.mvm.context.ThreadContext$1.call(ThreadContext.java:76)\\n\\tat com.mathworks.mvm.context.ThreadContext.callWithContext(ThreadContext.java:105)\\n\\tat com.mathworks.mvm.context.ThreadContext.runWithContext(ThreadContext.java:73)\\n\\tat com.mathworks.mvm.context.MvmContext.runWithContext(MvmContext.java:107)\\n\\tat com.mathworks.jmi.AWTUtilities$Invoker$5.runWithOutput(AWTUtilities.java:588)\\n\\tat com.mathworks.jmi.AWTUtilities$Invoker$2.watchedRun(AWTUtilities.java:475)\\n\\tat com.mathworks.jmi.AWTUtilities$WatchedRunnable.run(AWTUtilities.java:436)\\n\\tat com.mathworks.jmi.AWTUtilities$Invoker.invoke(AWTUtilities.java:490)\\n\\tat com.mathworks.jmi.AWTUtilities.invokeAndWait(AWTUtilities.java:304)\\n\\tat com.mathworks.hg.util.HGGetframeOutputHelper$BufferedImageGrabber.grab(HGGetframeOutputHelper.java:377)\\n\\tat com.mathworks.hg.util.HGGetframeOutputHelper$BufferedImageGrabber.getBufferedImage(HGGetframeOutputHelper.java:356)\\n\\tat com.mathworks.hg.peer.FigureClientProxyPanel.setPaintDisabled(FigureClientProxyPanel.java:66)\\n\\tat com.mathworks.hg.peer.PaintDisabled.setPaintDisabled(PaintDisabled.java:60)\\n\\tat com.mathworks.hg.peer.HeavyweightLightweightContainerFactory$FigurePanelContainerLight.disablePaint(HeavyweightLightweightContainerFactory.java:326)\\n\\tat com.mathworks.hg.peer.HeavyweightLightweightContainerFactory$FigurePanelContainerLight.doSetPaintDisabled(HeavyweightLightweightContainerFactory.java:363)\\n\\tat com.mathworks.hg.peer.HeavyweightLightweightContainerFactory$FigurePanelContainerLight.setPaintDisabled(HeavyweightLightweightContainerFactory.java:387)\\n\\tat sun.reflect.NativeMethodAccessorImpl.invoke0(Native Method)\\n\\tat sun.reflect.NativeMethodAccessorImpl.invoke(Unknown Source)\\n\\tat sun.reflect.DelegatingMethodAccessorImpl.invoke(Unknown Source)\\n\\tat java.lang.reflect.Method.invoke(Unknown Source)\\n\\tat com.mathworks.jmi.AWTUtilities$Invoker$3$1.call(AWTUtilities.java:525)\\n\\tat com.mathworks.mvm.context.ThreadContext.callWithContext(ThreadContext.java:105)\\n\\tat com.mathworks.mvm.context.MvmContext.callWithContext(MvmContext.java:113)\\n\\tat com.mathworks.jmi.AWTUtilities$Invoker$3.runWithOutput(AWTUtilities.java:522)\\n\\tat com.mathworks.jmi.AWTUtilities$Invoker$2.watchedRun(AWTUtilities.java:475)\\n\\tat com.mathworks.jmi.AWTUtilities$WatchedRunnable.run(AWTUtilities.java:436)\\n\\tat java.awt.event.InvocationEvent.dispatch(Unknown Source)\\n\\tat java.awt.EventQueue.dispatchEventImpl(Unknown Source)\\n\\tat java.awt.EventQueue.access$200(Unknown Source)\\n\\tat java.awt.EventQueue$3.run(Unknown Source)\\n\\tat java.awt.EventQueue$3.run(Unknown Source)\\n\\tat java.security.AccessController.doPrivileged(Native Method)\\n\\tat java.security.ProtectionDomain$1.doIntersectionPrivilege(Unknown Source)\\n\\tat java.awt.EventQueue.dispatchEvent(Unknown Source)\\n\\tat java.awt.EventDispatchThread.pumpOneEventForFilters(Unknown Source)\\n\\tat java.awt.EventDispatchThread.pumpEventsForFilter(Unknown Source)\\n\\tat java.awt.EventDispatchThread.pumpEventsForHierarchy(Unknown Source)\\n\\tat java.awt.EventDispatchThread.pumpEvents(Unknown Source)\\n\\tat java.awt.EventDispatchThread.pumpEvents(Unknown Source)\\n\\tat java.awt.EventDispatchThread.run(Unknown Source)\\nCaused by: com.mathworks.hg.util.HGGetframeOutputHelper$RasterSizeException: java.lang.OutOfMemoryError: Java heap space\\n\\t... 45 more\\nCaused by: java.lang.OutOfMemoryError: Java heap space\\n\\tat java.awt.image.DataBufferInt.<init>(Unknown Source)\\n\\tat java.awt.image.Raster.createPackedRaster(Unknown Source)\\n\\tat java.awt.image.DirectColorModel.createCompatibleWritableRaster(Unknown Source)\\n\\tat java.awt.image.BufferedImage.<init>(Unknown Source)\\n\\tat com.mathworks.hg.util.HGGetframeOutputHelper$1.run(HGGetframeOutputHelper.java:176)\\n\\tat com.mathworks.jmi.AWTUtilities$Invoker$5$1.run(AWTUtilities.java:591)\\n\\tat com.mathworks.mvm.context.ThreadContext$1.call(ThreadContext.java:76)\\n\\tat com.mathworks.mvm.context.ThreadContext.callWithContext(ThreadContext.java:105)\\n\\tat com.mathworks.mvm.context.ThreadContext.runWithContext(ThreadContext.java:73)\\n\\tat com.mathworks.mvm.context.MvmContext.runWithContext(MvmContext.java:107)\\n\\tat com.mathworks.jmi.AWTUtilities$Invoker$5.runWithOutput(AWTUtilities.java:588)\\n\\tat com.mathworks.jmi.AWTUtilities$Invoker$2.watchedRun(AWTUtilities.java:475)\\n\\tat com.mathworks.jmi.AWTUtilities$WatchedRunnable.run(AWTUtilities.java:436)\\n\\tat com.mathworks.jmi.AWTUtilities$Invoker.invoke(AWTUtilities.java:490)\\n\\tat com.mathworks.jmi.AWTUtilities.invokeAndWait(AWTUtilities.java:304)\\n\\tat com.mathworks.hg.util.HGGetframeOutputHelper.generateOutput(HGGetframeOutputHelper.java:206)\\n\\tat com.mathworks.hg.util.HGGetframeOutputHelper$BufferedImageGrabber.grabOnEDT(HGGetframeOutputHelper.java:363)\\n\\tat com.mathworks.hg.util.HGGetframeOutputHelper$BufferedImageGrabber.access$300(HGGetframeOutputHelper.java:344)\\n\\tat com.mathworks.hg.util.HGGetframeOutputHelper$BufferedImageGrabber$1.run(HGGetframeOutputHelper.java:380)\\n\\tat com.mathworks.jmi.AWTUtilities$Invoker$5$1.run(AWTUtilities.java:591)\\n\\tat com.mathworks.mvm.context.ThreadContext$1.call(ThreadContext.java:76)\\n\\tat com.mathworks.mvm.context.ThreadContext.callWithContext(ThreadContext.java:105)\\n\\tat com.mathworks.mvm.context.ThreadContext.runWithContext(ThreadContext.java:73)\\n\\tat com.mathworks.mvm.context.MvmContext.runWithContext(MvmContext.java:107)\\n\\tat com.mathworks.jmi.AWTUtilities$Invoker$5.runWithOutput(AWTUtilities.java:588)\\n\\tat com.mathworks.jmi.AWTUtilities$Invoker$2.watchedRun(AWTUtilities.java:475)\\n\\tat com.mathworks.jmi.AWTUtilities$WatchedRunnable.run(AWTUtilities.java:436)\\n\\tat com.mathworks.jmi.AWTUtilities$Invoker.invoke(AWTUtilities.java:490)\\n\\tat com.mathworks.jmi.AWTUtilities.invokeAndWait(AWTUtilities.java:304)\\n\\tat com.mathworks.hg.util.HGGetframeOutputHelper$BufferedImageGrabber.grab(HGGetframeOutputHelper.java:377)\\n\\tat com.mathworks.hg.util.HGGetframeOutputHelper$BufferedImageGrabber.getBufferedImage(HGGetframeOutputHelper.java:356)\\n\\tat com.mathworks.hg.peer.FigureClientProxyPanel.setPaintDisabled(FigureClientProxyPanel.java:66)'",
     "output_type": "error",
     "traceback": [
      "\u001b[0;31m---------------------------------------------------------------------------\u001b[0m",
      "\u001b[0;31mMatlabInterperterError\u001b[0m                    Traceback (most recent call last)",
      "\u001b[0;32m<ipython-input-25-7f3b42da95c8>\u001b[0m in \u001b[0;36m<module>\u001b[0;34m()\u001b[0m\n\u001b[0;32m----> 1\u001b[0;31m \u001b[0mget_ipython\u001b[0m\u001b[0;34m(\u001b[0m\u001b[0;34m)\u001b[0m\u001b[0;34m.\u001b[0m\u001b[0mrun_cell_magic\u001b[0m\u001b[0;34m(\u001b[0m\u001b[0;34mu'matlab'\u001b[0m\u001b[0;34m,\u001b[0m \u001b[0;34mu''\u001b[0m\u001b[0;34m,\u001b[0m \u001b[0;34mu\"\\n% display\\n%--------------------------------------------------------------------------\\nspm_figure('Getwin','Figure 1');\\nsubplot(2,1,1)\\nplot(pst,x{1},'r',pst,x{2},'b')\\nxlabel('time');ylabel('amplitude');\\ntitle('Hidden neuronal states','FontSize',16)\\n\\nsubplot(2,1,2)\\nplot(pst,s{1},':r',pst,s{2},':b',pst,y{1},'r',pst,y{2},'b')\\nxlabel('time');ylabel('amplitude');\\ntitle('Observed response','FontSize',16)\"\u001b[0m\u001b[0;34m)\u001b[0m\u001b[0;34m\u001b[0m\u001b[0m\n\u001b[0m",
      "\u001b[0;32m/home/jgriffiths/Software/anaconda2/envs/jupyter_release/lib/python2.7/site-packages/IPython/core/interactiveshell.pyc\u001b[0m in \u001b[0;36mrun_cell_magic\u001b[0;34m(self, magic_name, line, cell)\u001b[0m\n\u001b[1;32m   2113\u001b[0m             \u001b[0mmagic_arg_s\u001b[0m \u001b[0;34m=\u001b[0m \u001b[0mself\u001b[0m\u001b[0;34m.\u001b[0m\u001b[0mvar_expand\u001b[0m\u001b[0;34m(\u001b[0m\u001b[0mline\u001b[0m\u001b[0;34m,\u001b[0m \u001b[0mstack_depth\u001b[0m\u001b[0;34m)\u001b[0m\u001b[0;34m\u001b[0m\u001b[0m\n\u001b[1;32m   2114\u001b[0m             \u001b[0;32mwith\u001b[0m \u001b[0mself\u001b[0m\u001b[0;34m.\u001b[0m\u001b[0mbuiltin_trap\u001b[0m\u001b[0;34m:\u001b[0m\u001b[0;34m\u001b[0m\u001b[0m\n\u001b[0;32m-> 2115\u001b[0;31m                 \u001b[0mresult\u001b[0m \u001b[0;34m=\u001b[0m \u001b[0mfn\u001b[0m\u001b[0;34m(\u001b[0m\u001b[0mmagic_arg_s\u001b[0m\u001b[0;34m,\u001b[0m \u001b[0mcell\u001b[0m\u001b[0;34m)\u001b[0m\u001b[0;34m\u001b[0m\u001b[0m\n\u001b[0m\u001b[1;32m   2116\u001b[0m             \u001b[0;32mreturn\u001b[0m \u001b[0mresult\u001b[0m\u001b[0;34m\u001b[0m\u001b[0m\n\u001b[1;32m   2117\u001b[0m \u001b[0;34m\u001b[0m\u001b[0m\n",
      "\u001b[0;32m<decorator-gen-122>\u001b[0m in \u001b[0;36mmatlab\u001b[0;34m(self, line, cell, local_ns)\u001b[0m\n",
      "\u001b[0;32m/home/jgriffiths/Software/anaconda2/envs/jupyter_release/lib/python2.7/site-packages/IPython/core/magic.pyc\u001b[0m in \u001b[0;36m<lambda>\u001b[0;34m(f, *a, **k)\u001b[0m\n\u001b[1;32m    186\u001b[0m     \u001b[0;31m# but it's overkill for just that one bit of state.\u001b[0m\u001b[0;34m\u001b[0m\u001b[0;34m\u001b[0m\u001b[0m\n\u001b[1;32m    187\u001b[0m     \u001b[0;32mdef\u001b[0m \u001b[0mmagic_deco\u001b[0m\u001b[0;34m(\u001b[0m\u001b[0marg\u001b[0m\u001b[0;34m)\u001b[0m\u001b[0;34m:\u001b[0m\u001b[0;34m\u001b[0m\u001b[0m\n\u001b[0;32m--> 188\u001b[0;31m         \u001b[0mcall\u001b[0m \u001b[0;34m=\u001b[0m \u001b[0;32mlambda\u001b[0m \u001b[0mf\u001b[0m\u001b[0;34m,\u001b[0m \u001b[0;34m*\u001b[0m\u001b[0ma\u001b[0m\u001b[0;34m,\u001b[0m \u001b[0;34m**\u001b[0m\u001b[0mk\u001b[0m\u001b[0;34m:\u001b[0m \u001b[0mf\u001b[0m\u001b[0;34m(\u001b[0m\u001b[0;34m*\u001b[0m\u001b[0ma\u001b[0m\u001b[0;34m,\u001b[0m \u001b[0;34m**\u001b[0m\u001b[0mk\u001b[0m\u001b[0;34m)\u001b[0m\u001b[0;34m\u001b[0m\u001b[0m\n\u001b[0m\u001b[1;32m    189\u001b[0m \u001b[0;34m\u001b[0m\u001b[0m\n\u001b[1;32m    190\u001b[0m         \u001b[0;32mif\u001b[0m \u001b[0mcallable\u001b[0m\u001b[0;34m(\u001b[0m\u001b[0marg\u001b[0m\u001b[0;34m)\u001b[0m\u001b[0;34m:\u001b[0m\u001b[0;34m\u001b[0m\u001b[0m\n",
      "\u001b[0;32m/home/jgriffiths/Software/anaconda2/envs/jupyter_release/lib/python2.7/site-packages/pymatbridge/matlab_magic.pyc\u001b[0m in \u001b[0;36mmatlab\u001b[0;34m(self, line, cell, local_ns)\u001b[0m\n\u001b[1;32m    161\u001b[0m \u001b[0;34m\u001b[0m\u001b[0m\n\u001b[1;32m    162\u001b[0m         \u001b[0;32mtry\u001b[0m\u001b[0;34m:\u001b[0m\u001b[0;34m\u001b[0m\u001b[0m\n\u001b[0;32m--> 163\u001b[0;31m             \u001b[0mresult_dict\u001b[0m \u001b[0;34m=\u001b[0m \u001b[0mself\u001b[0m\u001b[0;34m.\u001b[0m\u001b[0meval\u001b[0m\u001b[0;34m(\u001b[0m\u001b[0mcode\u001b[0m\u001b[0;34m)\u001b[0m\u001b[0;34m\u001b[0m\u001b[0m\n\u001b[0m\u001b[1;32m    164\u001b[0m         \u001b[0;32mexcept\u001b[0m \u001b[0mMatlabInterperterError\u001b[0m\u001b[0;34m:\u001b[0m\u001b[0;34m\u001b[0m\u001b[0m\n\u001b[1;32m    165\u001b[0m             \u001b[0;32mraise\u001b[0m\u001b[0;34m\u001b[0m\u001b[0m\n",
      "\u001b[0;32m/home/jgriffiths/Software/anaconda2/envs/jupyter_release/lib/python2.7/site-packages/pymatbridge/matlab_magic.pyc\u001b[0m in \u001b[0;36meval\u001b[0;34m(self, line)\u001b[0m\n\u001b[1;32m     88\u001b[0m \u001b[0;34m\u001b[0m\u001b[0m\n\u001b[1;32m     89\u001b[0m         \u001b[0;32mif\u001b[0m \u001b[0;32mnot\u001b[0m \u001b[0mrun_dict\u001b[0m\u001b[0;34m[\u001b[0m\u001b[0;34m'success'\u001b[0m\u001b[0;34m]\u001b[0m\u001b[0;34m:\u001b[0m\u001b[0;34m\u001b[0m\u001b[0m\n\u001b[0;32m---> 90\u001b[0;31m             \u001b[0;32mraise\u001b[0m \u001b[0mMatlabInterperterError\u001b[0m\u001b[0;34m(\u001b[0m\u001b[0mline\u001b[0m\u001b[0;34m,\u001b[0m \u001b[0mrun_dict\u001b[0m\u001b[0;34m[\u001b[0m\u001b[0;34m'content'\u001b[0m\u001b[0;34m]\u001b[0m\u001b[0;34m[\u001b[0m\u001b[0;34m'stdout'\u001b[0m\u001b[0;34m]\u001b[0m\u001b[0;34m)\u001b[0m\u001b[0;34m\u001b[0m\u001b[0m\n\u001b[0m\u001b[1;32m     91\u001b[0m \u001b[0;34m\u001b[0m\u001b[0m\n\u001b[1;32m     92\u001b[0m         \u001b[0;31m# This is the matlab stdout:\u001b[0m\u001b[0;34m\u001b[0m\u001b[0;34m\u001b[0m\u001b[0m\n",
      "\u001b[0;31mMatlabInterperterError\u001b[0m: Failed to parse and evaluate line u\"\\n% display\\n%--------------------------------------------------------------------------\\nspm_figure('Getwin','Figure 1');\\nsubplot(2,1,1)\\nplot(pst,x{1},'r',pst,x{2},'b')\\nxlabel('time');ylabel('amplitude');\\ntitle('Hidden neuronal states','FontSize',16)\\n\\nsubplot(2,1,2)\\nplot(pst,s{1},':r',pst,s{2},':b',pst,y{1},'r',pst,y{2},'b')\\nxlabel('time');ylabel('amplitude');\\ntitle('Observed response','FontSize',16)\".\n Matlab error message: u'Java exception occurred: \\ncom.mathworks.hg.util.OutputHelperProcessingException: Problem while processing in an OutputHelper. java.lang.OutOfMemoryError: Java heap space\\n\\tat com.mathworks.hg.util.HGGetframeOutputHelper.generateOutput(HGGetframeOutputHelper.java:216)\\n\\tat com.mathworks.hg.util.HGGetframeOutputHelper$BufferedImageGrabber.grabOnEDT(HGGetframeOutputHelper.java:363)\\n\\tat com.mathworks.hg.util.HGGetframeOutputHelper$BufferedImageGrabber.access$300(HGGetframeOutputHelper.java:344)\\n\\tat com.mathworks.hg.util.HGGetframeOutputHelper$BufferedImageGrabber$1.run(HGGetframeOutputHelper.java:380)\\n\\tat com.mathworks.jmi.AWTUtilities$Invoker$5$1.run(AWTUtilities.java:591)\\n\\tat com.mathworks.mvm.context.ThreadContext$1.call(ThreadContext.java:76)\\n\\tat com.mathworks.mvm.context.ThreadContext.callWithContext(ThreadContext.java:105)\\n\\tat com.mathworks.mvm.context.ThreadContext.runWithContext(ThreadContext.java:73)\\n\\tat com.mathworks.mvm.context.MvmContext.runWithContext(MvmContext.java:107)\\n\\tat com.mathworks.jmi.AWTUtilities$Invoker$5.runWithOutput(AWTUtilities.java:588)\\n\\tat com.mathworks.jmi.AWTUtilities$Invoker$2.watchedRun(AWTUtilities.java:475)\\n\\tat com.mathworks.jmi.AWTUtilities$WatchedRunnable.run(AWTUtilities.java:436)\\n\\tat com.mathworks.jmi.AWTUtilities$Invoker.invoke(AWTUtilities.java:490)\\n\\tat com.mathworks.jmi.AWTUtilities.invokeAndWait(AWTUtilities.java:304)\\n\\tat com.mathworks.hg.util.HGGetframeOutputHelper$BufferedImageGrabber.grab(HGGetframeOutputHelper.java:377)\\n\\tat com.mathworks.hg.util.HGGetframeOutputHelper$BufferedImageGrabber.getBufferedImage(HGGetframeOutputHelper.java:356)\\n\\tat com.mathworks.hg.peer.FigureClientProxyPanel.setPaintDisabled(FigureClientProxyPanel.java:66)\\n\\tat com.mathworks.hg.peer.PaintDisabled.setPaintDisabled(PaintDisabled.java:60)\\n\\tat com.mathworks.hg.peer.HeavyweightLightweightContainerFactory$FigurePanelContainerLight.disablePaint(HeavyweightLightweightContainerFactory.java:326)\\n\\tat com.mathworks.hg.peer.HeavyweightLightweightContainerFactory$FigurePanelContainerLight.doSetPaintDisabled(HeavyweightLightweightContainerFactory.java:363)\\n\\tat com.mathworks.hg.peer.HeavyweightLightweightContainerFactory$FigurePanelContainerLight.setPaintDisabled(HeavyweightLightweightContainerFactory.java:387)\\n\\tat sun.reflect.NativeMethodAccessorImpl.invoke0(Native Method)\\n\\tat sun.reflect.NativeMethodAccessorImpl.invoke(Unknown Source)\\n\\tat sun.reflect.DelegatingMethodAccessorImpl.invoke(Unknown Source)\\n\\tat java.lang.reflect.Method.invoke(Unknown Source)\\n\\tat com.mathworks.jmi.AWTUtilities$Invoker$3$1.call(AWTUtilities.java:525)\\n\\tat com.mathworks.mvm.context.ThreadContext.callWithContext(ThreadContext.java:105)\\n\\tat com.mathworks.mvm.context.MvmContext.callWithContext(MvmContext.java:113)\\n\\tat com.mathworks.jmi.AWTUtilities$Invoker$3.runWithOutput(AWTUtilities.java:522)\\n\\tat com.mathworks.jmi.AWTUtilities$Invoker$2.watchedRun(AWTUtilities.java:475)\\n\\tat com.mathworks.jmi.AWTUtilities$WatchedRunnable.run(AWTUtilities.java:436)\\n\\tat java.awt.event.InvocationEvent.dispatch(Unknown Source)\\n\\tat java.awt.EventQueue.dispatchEventImpl(Unknown Source)\\n\\tat java.awt.EventQueue.access$200(Unknown Source)\\n\\tat java.awt.EventQueue$3.run(Unknown Source)\\n\\tat java.awt.EventQueue$3.run(Unknown Source)\\n\\tat java.security.AccessController.doPrivileged(Native Method)\\n\\tat java.security.ProtectionDomain$1.doIntersectionPrivilege(Unknown Source)\\n\\tat java.awt.EventQueue.dispatchEvent(Unknown Source)\\n\\tat java.awt.EventDispatchThread.pumpOneEventForFilters(Unknown Source)\\n\\tat java.awt.EventDispatchThread.pumpEventsForFilter(Unknown Source)\\n\\tat java.awt.EventDispatchThread.pumpEventsForHierarchy(Unknown Source)\\n\\tat java.awt.EventDispatchThread.pumpEvents(Unknown Source)\\n\\tat java.awt.EventDispatchThread.pumpEvents(Unknown Source)\\n\\tat java.awt.EventDispatchThread.run(Unknown Source)\\nCaused by: com.mathworks.hg.util.HGGetframeOutputHelper$RasterSizeException: java.lang.OutOfMemoryError: Java heap space\\n\\t... 45 more\\nCaused by: java.lang.OutOfMemoryError: Java heap space\\n\\tat java.awt.image.DataBufferInt.<init>(Unknown Source)\\n\\tat java.awt.image.Raster.createPackedRaster(Unknown Source)\\n\\tat java.awt.image.DirectColorModel.createCompatibleWritableRaster(Unknown Source)\\n\\tat java.awt.image.BufferedImage.<init>(Unknown Source)\\n\\tat com.mathworks.hg.util.HGGetframeOutputHelper$1.run(HGGetframeOutputHelper.java:176)\\n\\tat com.mathworks.jmi.AWTUtilities$Invoker$5$1.run(AWTUtilities.java:591)\\n\\tat com.mathworks.mvm.context.ThreadContext$1.call(ThreadContext.java:76)\\n\\tat com.mathworks.mvm.context.ThreadContext.callWithContext(ThreadContext.java:105)\\n\\tat com.mathworks.mvm.context.ThreadContext.runWithContext(ThreadContext.java:73)\\n\\tat com.mathworks.mvm.context.MvmContext.runWithContext(MvmContext.java:107)\\n\\tat com.mathworks.jmi.AWTUtilities$Invoker$5.runWithOutput(AWTUtilities.java:588)\\n\\tat com.mathworks.jmi.AWTUtilities$Invoker$2.watchedRun(AWTUtilities.java:475)\\n\\tat com.mathworks.jmi.AWTUtilities$WatchedRunnable.run(AWTUtilities.java:436)\\n\\tat com.mathworks.jmi.AWTUtilities$Invoker.invoke(AWTUtilities.java:490)\\n\\tat com.mathworks.jmi.AWTUtilities.invokeAndWait(AWTUtilities.java:304)\\n\\tat com.mathworks.hg.util.HGGetframeOutputHelper.generateOutput(HGGetframeOutputHelper.java:206)\\n\\tat com.mathworks.hg.util.HGGetframeOutputHelper$BufferedImageGrabber.grabOnEDT(HGGetframeOutputHelper.java:363)\\n\\tat com.mathworks.hg.util.HGGetframeOutputHelper$BufferedImageGrabber.access$300(HGGetframeOutputHelper.java:344)\\n\\tat com.mathworks.hg.util.HGGetframeOutputHelper$BufferedImageGrabber$1.run(HGGetframeOutputHelper.java:380)\\n\\tat com.mathworks.jmi.AWTUtilities$Invoker$5$1.run(AWTUtilities.java:591)\\n\\tat com.mathworks.mvm.context.ThreadContext$1.call(ThreadContext.java:76)\\n\\tat com.mathworks.mvm.context.ThreadContext.callWithContext(ThreadContext.java:105)\\n\\tat com.mathworks.mvm.context.ThreadContext.runWithContext(ThreadContext.java:73)\\n\\tat com.mathworks.mvm.context.MvmContext.runWithContext(MvmContext.java:107)\\n\\tat com.mathworks.jmi.AWTUtilities$Invoker$5.runWithOutput(AWTUtilities.java:588)\\n\\tat com.mathworks.jmi.AWTUtilities$Invoker$2.watchedRun(AWTUtilities.java:475)\\n\\tat com.mathworks.jmi.AWTUtilities$WatchedRunnable.run(AWTUtilities.java:436)\\n\\tat com.mathworks.jmi.AWTUtilities$Invoker.invoke(AWTUtilities.java:490)\\n\\tat com.mathworks.jmi.AWTUtilities.invokeAndWait(AWTUtilities.java:304)\\n\\tat com.mathworks.hg.util.HGGetframeOutputHelper$BufferedImageGrabber.grab(HGGetframeOutputHelper.java:377)\\n\\tat com.mathworks.hg.util.HGGetframeOutputHelper$BufferedImageGrabber.getBufferedImage(HGGetframeOutputHelper.java:356)\\n\\tat com.mathworks.hg.peer.FigureClientProxyPanel.setPaintDisabled(FigureClientProxyPanel.java:66)'"
     ]
    }
   ],
   "source": [
    "%%matlab\n",
    "\n",
    "% display\n",
    "%--------------------------------------------------------------------------\n",
    "spm_figure('Getwin','Figure 1');\n",
    "subplot(2,1,1)\n",
    "plot(pst,x{1},'r',pst,x{2},'b')\n",
    "xlabel('time');ylabel('amplitude');\n",
    "title('Hidden neuronal states','FontSize',16)\n",
    "\n",
    "\n",
    "\n",
    "subplot(2,1,2)\n",
    "plot(pst,s{1},':r',pst,s{2},':b',pst,y{1},'r',pst,y{2},'b')\n",
    "xlabel('time');ylabel('amplitude');\n",
    "title('Observed response','FontSize',16)"
   ]
  },
  {
   "cell_type": "code",
   "execution_count": 19,
   "metadata": {
    "collapsed": false
   },
   "outputs": [
    {
     "ename": "MatlabInterperterError",
     "evalue": "Failed to parse and evaluate line u\"\\n% display\\n%--------------------------------------------------------------------------\\nspm_figure('Getwin','Figure 1');\\nsubplot(2,1,1)\\nplot(pst,x{1},'r',pst,x{2},'b')\\nxlabel('time');ylabel('amplitude');\\ntitle('Hidden neuronal states','FontSize',16)\\n\\nsubplot(2,1,2)\\nplot(pst,s{1},':r',pst,s{2},':b',pst,y{1},'r',pst,y{2},'b')\\nxlabel('time');ylabel('amplitude');\\ntitle('Observed response','FontSize',16)\\n\\n\\n\\n% Invert model under increasing shrinkage priors on the condition specific\\n% change in the intrinsic (B) parameter of the first source. This range\\n% specified by alpha. Because the true value is non-zero, we expect  free-\\n% energy to decrease when the prior covariance falls to 0 and this\\n% parameter is effectively eliminated. The ensuing estimates are obtained\\n% while optimising the parameters of the spatial model and the  (neuronal)\\n% extrinsic parameter..\\n% =========================================================================\".\n Matlab error message: u'Java exception occurred: \\ncom.mathworks.hg.util.OutputHelperProcessingException: Problem while processing in an OutputHelper. java.lang.OutOfMemoryError: Java heap space\\n\\tat com.mathworks.hg.util.HGGetframeOutputHelper.generateOutput(HGGetframeOutputHelper.java:216)\\n\\tat com.mathworks.hg.util.HGGetframeOutputHelper$BufferedImageGrabber.grabOnEDT(HGGetframeOutputHelper.java:363)\\n\\tat com.mathworks.hg.util.HGGetframeOutputHelper$BufferedImageGrabber.access$300(HGGetframeOutputHelper.java:344)\\n\\tat com.mathworks.hg.util.HGGetframeOutputHelper$BufferedImageGrabber$1.run(HGGetframeOutputHelper.java:380)\\n\\tat com.mathworks.jmi.AWTUtilities$Invoker$5$1.run(AWTUtilities.java:591)\\n\\tat com.mathworks.mvm.context.ThreadContext$1.call(ThreadContext.java:76)\\n\\tat com.mathworks.mvm.context.ThreadContext.callWithContext(ThreadContext.java:105)\\n\\tat com.mathworks.mvm.context.ThreadContext.runWithContext(ThreadContext.java:73)\\n\\tat com.mathworks.mvm.context.MvmContext.runWithContext(MvmContext.java:107)\\n\\tat com.mathworks.jmi.AWTUtilities$Invoker$5.runWithOutput(AWTUtilities.java:588)\\n\\tat com.mathworks.jmi.AWTUtilities$Invoker$2.watchedRun(AWTUtilities.java:475)\\n\\tat com.mathworks.jmi.AWTUtilities$WatchedRunnable.run(AWTUtilities.java:436)\\n\\tat com.mathworks.jmi.AWTUtilities$Invoker.invoke(AWTUtilities.java:490)\\n\\tat com.mathworks.jmi.AWTUtilities.invokeAndWait(AWTUtilities.java:304)\\n\\tat com.mathworks.hg.util.HGGetframeOutputHelper$BufferedImageGrabber.grab(HGGetframeOutputHelper.java:377)\\n\\tat com.mathworks.hg.util.HGGetframeOutputHelper$BufferedImageGrabber.getBufferedImage(HGGetframeOutputHelper.java:356)\\n\\tat com.mathworks.hg.peer.FigureClientProxyPanel.setPaintDisabled(FigureClientProxyPanel.java:66)\\n\\tat com.mathworks.hg.peer.PaintDisabled.setPaintDisabled(PaintDisabled.java:60)\\n\\tat com.mathworks.hg.peer.HeavyweightLightweightContainerFactory$FigurePanelContainerLight.disablePaint(HeavyweightLightweightContainerFactory.java:326)\\n\\tat com.mathworks.hg.peer.HeavyweightLightweightContainerFactory$FigurePanelContainerLight.doSetPaintDisabled(HeavyweightLightweightContainerFactory.java:363)\\n\\tat com.mathworks.hg.peer.HeavyweightLightweightContainerFactory$FigurePanelContainerLight.setPaintDisabled(HeavyweightLightweightContainerFactory.java:387)\\n\\tat sun.reflect.NativeMethodAccessorImpl.invoke0(Native Method)\\n\\tat sun.reflect.NativeMethodAccessorImpl.invoke(Unknown Source)\\n\\tat sun.reflect.DelegatingMethodAccessorImpl.invoke(Unknown Source)\\n\\tat java.lang.reflect.Method.invoke(Unknown Source)\\n\\tat com.mathworks.jmi.AWTUtilities$Invoker$3$1.call(AWTUtilities.java:525)\\n\\tat com.mathworks.mvm.context.ThreadContext.callWithContext(ThreadContext.java:105)\\n\\tat com.mathworks.mvm.context.MvmContext.callWithContext(MvmContext.java:113)\\n\\tat com.mathworks.jmi.AWTUtilities$Invoker$3.runWithOutput(AWTUtilities.java:522)\\n\\tat com.mathworks.jmi.AWTUtilities$Invoker$2.watchedRun(AWTUtilities.java:475)\\n\\tat com.mathworks.jmi.AWTUtilities$WatchedRunnable.run(AWTUtilities.java:436)\\n\\tat java.awt.event.InvocationEvent.dispatch(Unknown Source)\\n\\tat java.awt.EventQueue.dispatchEventImpl(Unknown Source)\\n\\tat java.awt.EventQueue.access$200(Unknown Source)\\n\\tat java.awt.EventQueue$3.run(Unknown Source)\\n\\tat java.awt.EventQueue$3.run(Unknown Source)\\n\\tat java.security.AccessController.doPrivileged(Native Method)\\n\\tat java.security.ProtectionDomain$1.doIntersectionPrivilege(Unknown Source)\\n\\tat java.awt.EventQueue.dispatchEvent(Unknown Source)\\n\\tat java.awt.EventDispatchThread.pumpOneEventForFilters(Unknown Source)\\n\\tat java.awt.EventDispatchThread.pumpEventsForFilter(Unknown Source)\\n\\tat java.awt.EventDispatchThread.pumpEventsForHierarchy(Unknown Source)\\n\\tat java.awt.EventDispatchThread.pumpEvents(Unknown Source)\\n\\tat java.awt.EventDispatchThread.pumpEvents(Unknown Source)\\n\\tat java.awt.EventDispatchThread.run(Unknown Source)\\nCaused by: com.mathworks.hg.util.HGGetframeOutputHelper$RasterSizeException: java.lang.OutOfMemoryError: Java heap space\\n\\t... 45 more\\nCaused by: java.lang.OutOfMemoryError: Java heap space\\n\\tat java.awt.image.DataBufferInt.<init>(Unknown Source)\\n\\tat java.awt.image.Raster.createPackedRaster(Unknown Source)\\n\\tat java.awt.image.DirectColorModel.createCompatibleWritableRaster(Unknown Source)\\n\\tat java.awt.image.BufferedImage.<init>(Unknown Source)\\n\\tat com.mathworks.hg.util.HGGetframeOutputHelper$1.run(HGGetframeOutputHelper.java:176)\\n\\tat com.mathworks.jmi.AWTUtilities$Invoker$5$1.run(AWTUtilities.java:591)\\n\\tat com.mathworks.mvm.context.ThreadContext$1.call(ThreadContext.java:76)\\n\\tat com.mathworks.mvm.context.ThreadContext.callWithContext(ThreadContext.java:105)\\n\\tat com.mathworks.mvm.context.ThreadContext.runWithContext(ThreadContext.java:73)\\n\\tat com.mathworks.mvm.context.MvmContext.runWithContext(MvmContext.java:107)\\n\\tat com.mathworks.jmi.AWTUtilities$Invoker$5.runWithOutput(AWTUtilities.java:588)\\n\\tat com.mathworks.jmi.AWTUtilities$Invoker$2.watchedRun(AWTUtilities.java:475)\\n\\tat com.mathworks.jmi.AWTUtilities$WatchedRunnable.run(AWTUtilities.java:436)\\n\\tat com.mathworks.jmi.AWTUtilities$Invoker.invoke(AWTUtilities.java:490)\\n\\tat com.mathworks.jmi.AWTUtilities.invokeAndWait(AWTUtilities.java:304)\\n\\tat com.mathworks.hg.util.HGGetframeOutputHelper.generateOutput(HGGetframeOutputHelper.java:206)\\n\\tat com.mathworks.hg.util.HGGetframeOutputHelper$BufferedImageGrabber.grabOnEDT(HGGetframeOutputHelper.java:363)\\n\\tat com.mathworks.hg.util.HGGetframeOutputHelper$BufferedImageGrabber.access$300(HGGetframeOutputHelper.java:344)\\n\\tat com.mathworks.hg.util.HGGetframeOutputHelper$BufferedImageGrabber$1.run(HGGetframeOutputHelper.java:380)\\n\\tat com.mathworks.jmi.AWTUtilities$Invoker$5$1.run(AWTUtilities.java:591)\\n\\tat com.mathworks.mvm.context.ThreadContext$1.call(ThreadContext.java:76)\\n\\tat com.mathworks.mvm.context.ThreadContext.callWithContext(ThreadContext.java:105)\\n\\tat com.mathworks.mvm.context.ThreadContext.runWithContext(ThreadContext.java:73)\\n\\tat com.mathworks.mvm.context.MvmContext.runWithContext(MvmContext.java:107)\\n\\tat com.mathworks.jmi.AWTUtilities$Invoker$5.runWithOutput(AWTUtilities.java:588)\\n\\tat com.mathworks.jmi.AWTUtilities$Invoker$2.watchedRun(AWTUtilities.java:475)\\n\\tat com.mathworks.jmi.AWTUtilities$WatchedRunnable.run(AWTUtilities.java:436)\\n\\tat com.mathworks.jmi.AWTUtilities$Invoker.invoke(AWTUtilities.java:490)\\n\\tat com.mathworks.jmi.AWTUtilities.invokeAndWait(AWTUtilities.java:304)\\n\\tat com.mathworks.hg.util.HGGetframeOutputHelper$BufferedImageGrabber.grab(HGGetframeOutputHelper.java:377)\\n\\tat com.mathworks.hg.util.HGGetframeOutputHelper$BufferedImageGrabber.getBufferedImage(HGGetframeOutputHelper.java:356)\\n\\tat com.mathworks.hg.peer.FigureClientProxyPanel.setPaintDisabled(FigureClientProxyPanel.java:66)'",
     "output_type": "error",
     "traceback": [
      "\u001b[0;31m---------------------------------------------------------------------------\u001b[0m",
      "\u001b[0;31mMatlabInterperterError\u001b[0m                    Traceback (most recent call last)",
      "\u001b[0;32m<ipython-input-19-029d730cffbc>\u001b[0m in \u001b[0;36m<module>\u001b[0;34m()\u001b[0m\n\u001b[0;32m----> 1\u001b[0;31m \u001b[0mget_ipython\u001b[0m\u001b[0;34m(\u001b[0m\u001b[0;34m)\u001b[0m\u001b[0;34m.\u001b[0m\u001b[0mrun_cell_magic\u001b[0m\u001b[0;34m(\u001b[0m\u001b[0;34mu'matlab'\u001b[0m\u001b[0;34m,\u001b[0m \u001b[0;34mu''\u001b[0m\u001b[0;34m,\u001b[0m \u001b[0;34mu\"\\n% display\\n%--------------------------------------------------------------------------\\nspm_figure('Getwin','Figure 1');\\nsubplot(2,1,1)\\nplot(pst,x{1},'r',pst,x{2},'b')\\nxlabel('time');ylabel('amplitude');\\ntitle('Hidden neuronal states','FontSize',16)\\n\\nsubplot(2,1,2)\\nplot(pst,s{1},':r',pst,s{2},':b',pst,y{1},'r',pst,y{2},'b')\\nxlabel('time');ylabel('amplitude');\\ntitle('Observed response','FontSize',16)\\n\\n\\n\\n% Invert model under increasing shrinkage priors on the condition specific\\n% change in the intrinsic (B) parameter of the first source. This range\\n% specified by alpha. Because the true value is non-zero, we expect  free-\\n% energy to decrease when the prior covariance falls to 0 and this\\n% parameter is effectively eliminated. The ensuing estimates are obtained\\n% while optimising the parameters of the spatial model and the  (neuronal)\\n% extrinsic parameter..\\n% =========================================================================\"\u001b[0m\u001b[0;34m)\u001b[0m\u001b[0;34m\u001b[0m\u001b[0m\n\u001b[0m",
      "\u001b[0;32m/home/jgriffiths/Software/anaconda2/envs/jupyter_release/lib/python2.7/site-packages/IPython/core/interactiveshell.pyc\u001b[0m in \u001b[0;36mrun_cell_magic\u001b[0;34m(self, magic_name, line, cell)\u001b[0m\n\u001b[1;32m   2113\u001b[0m             \u001b[0mmagic_arg_s\u001b[0m \u001b[0;34m=\u001b[0m \u001b[0mself\u001b[0m\u001b[0;34m.\u001b[0m\u001b[0mvar_expand\u001b[0m\u001b[0;34m(\u001b[0m\u001b[0mline\u001b[0m\u001b[0;34m,\u001b[0m \u001b[0mstack_depth\u001b[0m\u001b[0;34m)\u001b[0m\u001b[0;34m\u001b[0m\u001b[0m\n\u001b[1;32m   2114\u001b[0m             \u001b[0;32mwith\u001b[0m \u001b[0mself\u001b[0m\u001b[0;34m.\u001b[0m\u001b[0mbuiltin_trap\u001b[0m\u001b[0;34m:\u001b[0m\u001b[0;34m\u001b[0m\u001b[0m\n\u001b[0;32m-> 2115\u001b[0;31m                 \u001b[0mresult\u001b[0m \u001b[0;34m=\u001b[0m \u001b[0mfn\u001b[0m\u001b[0;34m(\u001b[0m\u001b[0mmagic_arg_s\u001b[0m\u001b[0;34m,\u001b[0m \u001b[0mcell\u001b[0m\u001b[0;34m)\u001b[0m\u001b[0;34m\u001b[0m\u001b[0m\n\u001b[0m\u001b[1;32m   2116\u001b[0m             \u001b[0;32mreturn\u001b[0m \u001b[0mresult\u001b[0m\u001b[0;34m\u001b[0m\u001b[0m\n\u001b[1;32m   2117\u001b[0m \u001b[0;34m\u001b[0m\u001b[0m\n",
      "\u001b[0;32m<decorator-gen-122>\u001b[0m in \u001b[0;36mmatlab\u001b[0;34m(self, line, cell, local_ns)\u001b[0m\n",
      "\u001b[0;32m/home/jgriffiths/Software/anaconda2/envs/jupyter_release/lib/python2.7/site-packages/IPython/core/magic.pyc\u001b[0m in \u001b[0;36m<lambda>\u001b[0;34m(f, *a, **k)\u001b[0m\n\u001b[1;32m    186\u001b[0m     \u001b[0;31m# but it's overkill for just that one bit of state.\u001b[0m\u001b[0;34m\u001b[0m\u001b[0;34m\u001b[0m\u001b[0m\n\u001b[1;32m    187\u001b[0m     \u001b[0;32mdef\u001b[0m \u001b[0mmagic_deco\u001b[0m\u001b[0;34m(\u001b[0m\u001b[0marg\u001b[0m\u001b[0;34m)\u001b[0m\u001b[0;34m:\u001b[0m\u001b[0;34m\u001b[0m\u001b[0m\n\u001b[0;32m--> 188\u001b[0;31m         \u001b[0mcall\u001b[0m \u001b[0;34m=\u001b[0m \u001b[0;32mlambda\u001b[0m \u001b[0mf\u001b[0m\u001b[0;34m,\u001b[0m \u001b[0;34m*\u001b[0m\u001b[0ma\u001b[0m\u001b[0;34m,\u001b[0m \u001b[0;34m**\u001b[0m\u001b[0mk\u001b[0m\u001b[0;34m:\u001b[0m \u001b[0mf\u001b[0m\u001b[0;34m(\u001b[0m\u001b[0;34m*\u001b[0m\u001b[0ma\u001b[0m\u001b[0;34m,\u001b[0m \u001b[0;34m**\u001b[0m\u001b[0mk\u001b[0m\u001b[0;34m)\u001b[0m\u001b[0;34m\u001b[0m\u001b[0m\n\u001b[0m\u001b[1;32m    189\u001b[0m \u001b[0;34m\u001b[0m\u001b[0m\n\u001b[1;32m    190\u001b[0m         \u001b[0;32mif\u001b[0m \u001b[0mcallable\u001b[0m\u001b[0;34m(\u001b[0m\u001b[0marg\u001b[0m\u001b[0;34m)\u001b[0m\u001b[0;34m:\u001b[0m\u001b[0;34m\u001b[0m\u001b[0m\n",
      "\u001b[0;32m/home/jgriffiths/Software/anaconda2/envs/jupyter_release/lib/python2.7/site-packages/pymatbridge/matlab_magic.pyc\u001b[0m in \u001b[0;36mmatlab\u001b[0;34m(self, line, cell, local_ns)\u001b[0m\n\u001b[1;32m    161\u001b[0m \u001b[0;34m\u001b[0m\u001b[0m\n\u001b[1;32m    162\u001b[0m         \u001b[0;32mtry\u001b[0m\u001b[0;34m:\u001b[0m\u001b[0;34m\u001b[0m\u001b[0m\n\u001b[0;32m--> 163\u001b[0;31m             \u001b[0mresult_dict\u001b[0m \u001b[0;34m=\u001b[0m \u001b[0mself\u001b[0m\u001b[0;34m.\u001b[0m\u001b[0meval\u001b[0m\u001b[0;34m(\u001b[0m\u001b[0mcode\u001b[0m\u001b[0;34m)\u001b[0m\u001b[0;34m\u001b[0m\u001b[0m\n\u001b[0m\u001b[1;32m    164\u001b[0m         \u001b[0;32mexcept\u001b[0m \u001b[0mMatlabInterperterError\u001b[0m\u001b[0;34m:\u001b[0m\u001b[0;34m\u001b[0m\u001b[0m\n\u001b[1;32m    165\u001b[0m             \u001b[0;32mraise\u001b[0m\u001b[0;34m\u001b[0m\u001b[0m\n",
      "\u001b[0;32m/home/jgriffiths/Software/anaconda2/envs/jupyter_release/lib/python2.7/site-packages/pymatbridge/matlab_magic.pyc\u001b[0m in \u001b[0;36meval\u001b[0;34m(self, line)\u001b[0m\n\u001b[1;32m     88\u001b[0m \u001b[0;34m\u001b[0m\u001b[0m\n\u001b[1;32m     89\u001b[0m         \u001b[0;32mif\u001b[0m \u001b[0;32mnot\u001b[0m \u001b[0mrun_dict\u001b[0m\u001b[0;34m[\u001b[0m\u001b[0;34m'success'\u001b[0m\u001b[0;34m]\u001b[0m\u001b[0;34m:\u001b[0m\u001b[0;34m\u001b[0m\u001b[0m\n\u001b[0;32m---> 90\u001b[0;31m             \u001b[0;32mraise\u001b[0m \u001b[0mMatlabInterperterError\u001b[0m\u001b[0;34m(\u001b[0m\u001b[0mline\u001b[0m\u001b[0;34m,\u001b[0m \u001b[0mrun_dict\u001b[0m\u001b[0;34m[\u001b[0m\u001b[0;34m'content'\u001b[0m\u001b[0;34m]\u001b[0m\u001b[0;34m[\u001b[0m\u001b[0;34m'stdout'\u001b[0m\u001b[0;34m]\u001b[0m\u001b[0;34m)\u001b[0m\u001b[0;34m\u001b[0m\u001b[0m\n\u001b[0m\u001b[1;32m     91\u001b[0m \u001b[0;34m\u001b[0m\u001b[0m\n\u001b[1;32m     92\u001b[0m         \u001b[0;31m# This is the matlab stdout:\u001b[0m\u001b[0;34m\u001b[0m\u001b[0;34m\u001b[0m\u001b[0m\n",
      "\u001b[0;31mMatlabInterperterError\u001b[0m: Failed to parse and evaluate line u\"\\n% display\\n%--------------------------------------------------------------------------\\nspm_figure('Getwin','Figure 1');\\nsubplot(2,1,1)\\nplot(pst,x{1},'r',pst,x{2},'b')\\nxlabel('time');ylabel('amplitude');\\ntitle('Hidden neuronal states','FontSize',16)\\n\\nsubplot(2,1,2)\\nplot(pst,s{1},':r',pst,s{2},':b',pst,y{1},'r',pst,y{2},'b')\\nxlabel('time');ylabel('amplitude');\\ntitle('Observed response','FontSize',16)\\n\\n\\n\\n% Invert model under increasing shrinkage priors on the condition specific\\n% change in the intrinsic (B) parameter of the first source. This range\\n% specified by alpha. Because the true value is non-zero, we expect  free-\\n% energy to decrease when the prior covariance falls to 0 and this\\n% parameter is effectively eliminated. The ensuing estimates are obtained\\n% while optimising the parameters of the spatial model and the  (neuronal)\\n% extrinsic parameter..\\n% =========================================================================\".\n Matlab error message: u'Java exception occurred: \\ncom.mathworks.hg.util.OutputHelperProcessingException: Problem while processing in an OutputHelper. java.lang.OutOfMemoryError: Java heap space\\n\\tat com.mathworks.hg.util.HGGetframeOutputHelper.generateOutput(HGGetframeOutputHelper.java:216)\\n\\tat com.mathworks.hg.util.HGGetframeOutputHelper$BufferedImageGrabber.grabOnEDT(HGGetframeOutputHelper.java:363)\\n\\tat com.mathworks.hg.util.HGGetframeOutputHelper$BufferedImageGrabber.access$300(HGGetframeOutputHelper.java:344)\\n\\tat com.mathworks.hg.util.HGGetframeOutputHelper$BufferedImageGrabber$1.run(HGGetframeOutputHelper.java:380)\\n\\tat com.mathworks.jmi.AWTUtilities$Invoker$5$1.run(AWTUtilities.java:591)\\n\\tat com.mathworks.mvm.context.ThreadContext$1.call(ThreadContext.java:76)\\n\\tat com.mathworks.mvm.context.ThreadContext.callWithContext(ThreadContext.java:105)\\n\\tat com.mathworks.mvm.context.ThreadContext.runWithContext(ThreadContext.java:73)\\n\\tat com.mathworks.mvm.context.MvmContext.runWithContext(MvmContext.java:107)\\n\\tat com.mathworks.jmi.AWTUtilities$Invoker$5.runWithOutput(AWTUtilities.java:588)\\n\\tat com.mathworks.jmi.AWTUtilities$Invoker$2.watchedRun(AWTUtilities.java:475)\\n\\tat com.mathworks.jmi.AWTUtilities$WatchedRunnable.run(AWTUtilities.java:436)\\n\\tat com.mathworks.jmi.AWTUtilities$Invoker.invoke(AWTUtilities.java:490)\\n\\tat com.mathworks.jmi.AWTUtilities.invokeAndWait(AWTUtilities.java:304)\\n\\tat com.mathworks.hg.util.HGGetframeOutputHelper$BufferedImageGrabber.grab(HGGetframeOutputHelper.java:377)\\n\\tat com.mathworks.hg.util.HGGetframeOutputHelper$BufferedImageGrabber.getBufferedImage(HGGetframeOutputHelper.java:356)\\n\\tat com.mathworks.hg.peer.FigureClientProxyPanel.setPaintDisabled(FigureClientProxyPanel.java:66)\\n\\tat com.mathworks.hg.peer.PaintDisabled.setPaintDisabled(PaintDisabled.java:60)\\n\\tat com.mathworks.hg.peer.HeavyweightLightweightContainerFactory$FigurePanelContainerLight.disablePaint(HeavyweightLightweightContainerFactory.java:326)\\n\\tat com.mathworks.hg.peer.HeavyweightLightweightContainerFactory$FigurePanelContainerLight.doSetPaintDisabled(HeavyweightLightweightContainerFactory.java:363)\\n\\tat com.mathworks.hg.peer.HeavyweightLightweightContainerFactory$FigurePanelContainerLight.setPaintDisabled(HeavyweightLightweightContainerFactory.java:387)\\n\\tat sun.reflect.NativeMethodAccessorImpl.invoke0(Native Method)\\n\\tat sun.reflect.NativeMethodAccessorImpl.invoke(Unknown Source)\\n\\tat sun.reflect.DelegatingMethodAccessorImpl.invoke(Unknown Source)\\n\\tat java.lang.reflect.Method.invoke(Unknown Source)\\n\\tat com.mathworks.jmi.AWTUtilities$Invoker$3$1.call(AWTUtilities.java:525)\\n\\tat com.mathworks.mvm.context.ThreadContext.callWithContext(ThreadContext.java:105)\\n\\tat com.mathworks.mvm.context.MvmContext.callWithContext(MvmContext.java:113)\\n\\tat com.mathworks.jmi.AWTUtilities$Invoker$3.runWithOutput(AWTUtilities.java:522)\\n\\tat com.mathworks.jmi.AWTUtilities$Invoker$2.watchedRun(AWTUtilities.java:475)\\n\\tat com.mathworks.jmi.AWTUtilities$WatchedRunnable.run(AWTUtilities.java:436)\\n\\tat java.awt.event.InvocationEvent.dispatch(Unknown Source)\\n\\tat java.awt.EventQueue.dispatchEventImpl(Unknown Source)\\n\\tat java.awt.EventQueue.access$200(Unknown Source)\\n\\tat java.awt.EventQueue$3.run(Unknown Source)\\n\\tat java.awt.EventQueue$3.run(Unknown Source)\\n\\tat java.security.AccessController.doPrivileged(Native Method)\\n\\tat java.security.ProtectionDomain$1.doIntersectionPrivilege(Unknown Source)\\n\\tat java.awt.EventQueue.dispatchEvent(Unknown Source)\\n\\tat java.awt.EventDispatchThread.pumpOneEventForFilters(Unknown Source)\\n\\tat java.awt.EventDispatchThread.pumpEventsForFilter(Unknown Source)\\n\\tat java.awt.EventDispatchThread.pumpEventsForHierarchy(Unknown Source)\\n\\tat java.awt.EventDispatchThread.pumpEvents(Unknown Source)\\n\\tat java.awt.EventDispatchThread.pumpEvents(Unknown Source)\\n\\tat java.awt.EventDispatchThread.run(Unknown Source)\\nCaused by: com.mathworks.hg.util.HGGetframeOutputHelper$RasterSizeException: java.lang.OutOfMemoryError: Java heap space\\n\\t... 45 more\\nCaused by: java.lang.OutOfMemoryError: Java heap space\\n\\tat java.awt.image.DataBufferInt.<init>(Unknown Source)\\n\\tat java.awt.image.Raster.createPackedRaster(Unknown Source)\\n\\tat java.awt.image.DirectColorModel.createCompatibleWritableRaster(Unknown Source)\\n\\tat java.awt.image.BufferedImage.<init>(Unknown Source)\\n\\tat com.mathworks.hg.util.HGGetframeOutputHelper$1.run(HGGetframeOutputHelper.java:176)\\n\\tat com.mathworks.jmi.AWTUtilities$Invoker$5$1.run(AWTUtilities.java:591)\\n\\tat com.mathworks.mvm.context.ThreadContext$1.call(ThreadContext.java:76)\\n\\tat com.mathworks.mvm.context.ThreadContext.callWithContext(ThreadContext.java:105)\\n\\tat com.mathworks.mvm.context.ThreadContext.runWithContext(ThreadContext.java:73)\\n\\tat com.mathworks.mvm.context.MvmContext.runWithContext(MvmContext.java:107)\\n\\tat com.mathworks.jmi.AWTUtilities$Invoker$5.runWithOutput(AWTUtilities.java:588)\\n\\tat com.mathworks.jmi.AWTUtilities$Invoker$2.watchedRun(AWTUtilities.java:475)\\n\\tat com.mathworks.jmi.AWTUtilities$WatchedRunnable.run(AWTUtilities.java:436)\\n\\tat com.mathworks.jmi.AWTUtilities$Invoker.invoke(AWTUtilities.java:490)\\n\\tat com.mathworks.jmi.AWTUtilities.invokeAndWait(AWTUtilities.java:304)\\n\\tat com.mathworks.hg.util.HGGetframeOutputHelper.generateOutput(HGGetframeOutputHelper.java:206)\\n\\tat com.mathworks.hg.util.HGGetframeOutputHelper$BufferedImageGrabber.grabOnEDT(HGGetframeOutputHelper.java:363)\\n\\tat com.mathworks.hg.util.HGGetframeOutputHelper$BufferedImageGrabber.access$300(HGGetframeOutputHelper.java:344)\\n\\tat com.mathworks.hg.util.HGGetframeOutputHelper$BufferedImageGrabber$1.run(HGGetframeOutputHelper.java:380)\\n\\tat com.mathworks.jmi.AWTUtilities$Invoker$5$1.run(AWTUtilities.java:591)\\n\\tat com.mathworks.mvm.context.ThreadContext$1.call(ThreadContext.java:76)\\n\\tat com.mathworks.mvm.context.ThreadContext.callWithContext(ThreadContext.java:105)\\n\\tat com.mathworks.mvm.context.ThreadContext.runWithContext(ThreadContext.java:73)\\n\\tat com.mathworks.mvm.context.MvmContext.runWithContext(MvmContext.java:107)\\n\\tat com.mathworks.jmi.AWTUtilities$Invoker$5.runWithOutput(AWTUtilities.java:588)\\n\\tat com.mathworks.jmi.AWTUtilities$Invoker$2.watchedRun(AWTUtilities.java:475)\\n\\tat com.mathworks.jmi.AWTUtilities$WatchedRunnable.run(AWTUtilities.java:436)\\n\\tat com.mathworks.jmi.AWTUtilities$Invoker.invoke(AWTUtilities.java:490)\\n\\tat com.mathworks.jmi.AWTUtilities.invokeAndWait(AWTUtilities.java:304)\\n\\tat com.mathworks.hg.util.HGGetframeOutputHelper$BufferedImageGrabber.grab(HGGetframeOutputHelper.java:377)\\n\\tat com.mathworks.hg.util.HGGetframeOutputHelper$BufferedImageGrabber.getBufferedImage(HGGetframeOutputHelper.java:356)\\n\\tat com.mathworks.hg.peer.FigureClientProxyPanel.setPaintDisabled(FigureClientProxyPanel.java:66)'"
     ]
    }
   ],
   "source": [
    "% Invert model under increasing shrinkage priors on the condition specific\n",
    "% change in the intrinsic (B) parameter of the first source. This range\n",
    "% specified by alpha. Because the true value is non-zero, we expect  free-\n",
    "% energy to decrease when the prior covariance falls to 0 and this\n",
    "% parameter is effectively eliminated. The ensuing estimates are obtained\n",
    "% while optimising the parameters of the spatial model and the  (neuronal)\n",
    "% extrinsic parameter..\n",
    "% ========================================================================="
   ]
  },
  {
   "cell_type": "code",
   "execution_count": null,
   "metadata": {
    "collapsed": true
   },
   "outputs": [],
   "source": [
    "%%matlab\n",
    "\n",
    "% fix all (neuronal) parameters (except those of interest)\n",
    "% -------------------------------------------------------------------------\n",
    "M.pC           = spm_unvec(spm_vec(pC)*0,pC);\n",
    "M.pC.B{1}(1,1) = 1/8;\n",
    "M.pC.B{1}(2,1) = 1/8;\n",
    "\n",
    "% vary the prior covariance\n",
    "% -------------------------------------------------------------------------\n",
    "alpha = exp(-8:2);\n",
    "for i = 1:length(alpha)   \n",
    "\n",
    "    % reset shrinkage prior\n",
    "    % ---------------------------------------------------------------------\n",
    "    M.pC.B{1}(1,1) = alpha(i);\n",
    "\n",
    "    % full inversion\n",
    "    % ---------------------------------------------------------------------\n",
    "    [Ep,Eg,Cp,Cg,S,F] = spm_nlsi_N(M,U,Y);\n",
    "    Ep_all{i} = spm_vec(Ep);\n",
    "    Cp_all{i} = diag(Cp);\n",
    "    F_all(i)  = F;\n",
    "    \n",
    "end"
   ]
  },
  {
   "cell_type": "code",
   "execution_count": null,
   "metadata": {
    "collapsed": true
   },
   "outputs": [],
   "source": [
    "%%matlab\n",
    "\n",
    "% Post-hoc reduction for the full (complex) model: this evaluates the free\n",
    "% energy and posterior distribution over the parameters, given just the\n",
    "% full prior and posterior  for any required reduced prior.\n",
    "% -------------------------------------------------------------------------\n",
    "for i = 1:length(alpha)\n",
    "    \n",
    "    rC           = M.pC;\n",
    "    rC.B{1}(1,1) = alpha(i);\n",
    "\n",
    "    [F,rEp,rCp]  = spm_log_evidence_reduce(Ep,Cp,M.pE,M.pC,M.pE,rC);\n",
    "    rEp_all{i}   = spm_vec(rEp);\n",
    "    rCp_all{i}   = diag(rCp);\n",
    "    rF_all(i)    = F;\n",
    "    \n",
    "end"
   ]
  },
  {
   "cell_type": "code",
   "execution_count": 12,
   "metadata": {
    "collapsed": true
   },
   "outputs": [],
   "source": [
    "% compare full inversion and model reduction\n",
    "% -------------------------------------------------------------------------\n",
    "spm_figure('Getwin','Figure 2');\n",
    "\n",
    "subplot(2,1,1)\n",
    "semilogx(alpha,F_all - F_all(end),alpha,rF_all - rF_all(end))\n",
    "xlabel('prior covariance');ylabel('relative log evidence');\n",
    "legend('full','posthoc');\n",
    "title('Full and reduced log evidence','FontSize',16)\n",
    "\n",
    "\n",
    "% compare parameter estimates\n",
    "% -------------------------------------------------------------------------\n",
    "j     = find(spm_vec(M.pC));\n",
    "pP    = spm_vec(P);\n",
    "for i = 1:length(alpha)   \n",
    "\n",
    "    fQp(i,:) = Ep_all{i}(j);\n",
    "    fCp(i,:) = Cp_all{i}(j);\n",
    "    rQp(i,:) = rEp_all{i}(j);\n",
    "    vCp(i,:) = rCp_all{i}(j);\n",
    "    \n",
    "    Pp(i,:)  = pP(j);\n",
    "end\n",
    "\n",
    "subplot(2,1,2)\n",
    "spm_plot_ci(rQp',vCp'),  hold on\n",
    "plot(fQp,'--'),          hold on\n",
    "plot(Pp,'-.'),           hold off\n",
    "\n",
    "xlabel('prior log-covariance');ylabel('difference in log evidence');\n",
    "title('MAP estimates (full -- reduced  - true -.)','FontSize',16)\n",
    "set(gca,'XTickLabel',log(alpha))\n",
    "\n",
    "\n",
    "return\n",
    "\n",
    "\n",
    "% free energy landscape:\n",
    "% Here, we evaluate the free energy, which is a functional of the data and\n",
    "% conditional or posterior expectations (noting that posterior precisions\n",
    "% are functions of the expectations). The free energy can be computed in a\n",
    "% simple way by inverting the model using a single iteration. In what\n",
    "% follows, we evaluate the free energy over a range of the two (intrinsic\n",
    "% and extrinsic) coupling parameters (at the true values of the remaining\n",
    "% parameters)\n",
    "% =========================================================================\n",
    "beta      = linspace(-1,1,32);                       % range of parameters\n",
    "M.nograph = 1;\n",
    "M.Nmax    = 1;\n",
    "M.Gmax    = 1;\n",
    "M.Hmax    = 1;\n",
    "\n",
    "M.P   = P;\n",
    "M.Q   = G;\n",
    "for i = 1:length(beta)\n",
    "    for j = 1:length(beta)\n",
    "        \n",
    "        % specify posterior expectations (and implicitly precisions)\n",
    "        % -----------------------------------------------------------------\n",
    "        M.P           = P;\n",
    "        M.P.B{1}(1,1) = beta(i);\n",
    "        M.P.B{1}(2,1) = beta(j);\n",
    "        \n",
    "        % evaluate free energy (without updating expectations)\n",
    "        % -----------------------------------------------------------------\n",
    "        [Ep,Eg,Cp,Cg,S,F] = spm_nlsi_N(M,U,Y);\n",
    "        FF(i,j)           = F;\n",
    "        \n",
    "        % record conditional covariance at maximum\n",
    "        % -----------------------------------------------------------------\n",
    "        if F >= max(FF(:)), CP  = Cp; end\n",
    "\n",
    "    end\n",
    "end\n",
    "\n",
    "% apply Occam's window\n",
    "% -------------------------------------------------------------------------\n",
    "FF    = FF - max(FF(:));\n",
    "F     = max(FF,-64)\n",
    "\n",
    "% Free energy landscape and associated conditional covariance: the\n",
    "% conditional covariance  is the inverse precision  which is proportional\n",
    "% to the curvature of the variational energy (equivalent to the curvature\n",
    "% of the free energy functional of posterior or conditional expectations)\n",
    "% -------------------------------------------------------------------------\n",
    "spm_figure('Getwin','Figure 3');\n",
    "\n",
    "j     = find(spm_vec(M.pC));\n",
    "subplot(2,1,1)\n",
    "imagesc(beta,beta,F),       hold on\n",
    "contour(beta,beta,F,8,'m'), hold on\n",
    "plot(pP(j(2)),pP(j(1)),'.r','MarkerSize',32), hold off\n",
    "xlabel('extrinsic');ylabel('intrinsic');\n",
    "title('Free-energy landscape','FontSize',16)\n",
    "axis square\n",
    "\n",
    "subplot(2,1,2)\n",
    "imagesc(CP(j,j))\n",
    "xlabel('parameters');ylabel('parameters');\n",
    "title('Posterior covariance','FontSize',16)\n",
    "axis square"
   ]
  },
  {
   "cell_type": "code",
   "execution_count": null,
   "metadata": {
    "collapsed": true
   },
   "outputs": [],
   "source": [
    "%%matlab\n",
    "\n"
   ]
  }
 ],
 "metadata": {
  "anaconda-cloud": {},
  "kernelspec": {
   "display_name": "Python [default]",
   "language": "python",
   "name": "python2"
  },
  "language_info": {
   "codemirror_mode": {
    "name": "ipython",
    "version": 2
   },
   "file_extension": ".py",
   "mimetype": "text/x-python",
   "name": "python",
   "nbconvert_exporter": "python",
   "pygments_lexer": "ipython2",
   "version": "2.7.12"
  }
 },
 "nbformat": 4,
 "nbformat_minor": 2
}
